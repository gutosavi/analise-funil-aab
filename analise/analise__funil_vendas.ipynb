{
 "cells": [
  {
   "cell_type": "markdown",
   "metadata": {},
   "source": [
    "**Análise de Funil e Impacto da Fonte (A/A/B)**\n",
    "\n",
    "Este projeto tem como objetivo principal analisar o comportamento dos usuários de nosso aplicativo de venda de produtos alimentícios. A análise será dividida em duas etapas cruciais: a avaliação do funil de vendas para identificar gargalos na jornada de compra e a verificação dos resultados de um teste A/A/B implementado para avaliar o impacto de uma mudança nas fontes do aplicativo na experiência e conversão do usuário."
   ]
  },
  {
   "cell_type": "code",
   "execution_count": 83,
   "metadata": {
    "scrolled": true
   },
   "outputs": [
    {
     "data": {
      "text/html": [
       "<div>\n",
       "<style scoped>\n",
       "    .dataframe tbody tr th:only-of-type {\n",
       "        vertical-align: middle;\n",
       "    }\n",
       "\n",
       "    .dataframe tbody tr th {\n",
       "        vertical-align: top;\n",
       "    }\n",
       "\n",
       "    .dataframe thead th {\n",
       "        text-align: right;\n",
       "    }\n",
       "</style>\n",
       "<table border=\"1\" class=\"dataframe\">\n",
       "  <thead>\n",
       "    <tr style=\"text-align: right;\">\n",
       "      <th></th>\n",
       "      <th>eventname</th>\n",
       "      <th>deviceidhash</th>\n",
       "      <th>eventtimestamp</th>\n",
       "      <th>expid</th>\n",
       "    </tr>\n",
       "  </thead>\n",
       "  <tbody>\n",
       "    <tr>\n",
       "      <th>0</th>\n",
       "      <td>MainScreenAppear</td>\n",
       "      <td>4575588528974610257</td>\n",
       "      <td>1564029816</td>\n",
       "      <td>246</td>\n",
       "    </tr>\n",
       "    <tr>\n",
       "      <th>1</th>\n",
       "      <td>MainScreenAppear</td>\n",
       "      <td>7416695313311560658</td>\n",
       "      <td>1564053102</td>\n",
       "      <td>246</td>\n",
       "    </tr>\n",
       "    <tr>\n",
       "      <th>2</th>\n",
       "      <td>PaymentScreenSuccessful</td>\n",
       "      <td>3518123091307005509</td>\n",
       "      <td>1564054127</td>\n",
       "      <td>248</td>\n",
       "    </tr>\n",
       "    <tr>\n",
       "      <th>3</th>\n",
       "      <td>CartScreenAppear</td>\n",
       "      <td>3518123091307005509</td>\n",
       "      <td>1564054127</td>\n",
       "      <td>248</td>\n",
       "    </tr>\n",
       "    <tr>\n",
       "      <th>4</th>\n",
       "      <td>PaymentScreenSuccessful</td>\n",
       "      <td>6217807653094995999</td>\n",
       "      <td>1564055322</td>\n",
       "      <td>248</td>\n",
       "    </tr>\n",
       "    <tr>\n",
       "      <th>...</th>\n",
       "      <td>...</td>\n",
       "      <td>...</td>\n",
       "      <td>...</td>\n",
       "      <td>...</td>\n",
       "    </tr>\n",
       "    <tr>\n",
       "      <th>244121</th>\n",
       "      <td>MainScreenAppear</td>\n",
       "      <td>4599628364049201812</td>\n",
       "      <td>1565212345</td>\n",
       "      <td>247</td>\n",
       "    </tr>\n",
       "    <tr>\n",
       "      <th>244122</th>\n",
       "      <td>MainScreenAppear</td>\n",
       "      <td>5849806612437486590</td>\n",
       "      <td>1565212439</td>\n",
       "      <td>246</td>\n",
       "    </tr>\n",
       "    <tr>\n",
       "      <th>244123</th>\n",
       "      <td>MainScreenAppear</td>\n",
       "      <td>5746969938801999050</td>\n",
       "      <td>1565212483</td>\n",
       "      <td>246</td>\n",
       "    </tr>\n",
       "    <tr>\n",
       "      <th>244124</th>\n",
       "      <td>MainScreenAppear</td>\n",
       "      <td>5746969938801999050</td>\n",
       "      <td>1565212498</td>\n",
       "      <td>246</td>\n",
       "    </tr>\n",
       "    <tr>\n",
       "      <th>244125</th>\n",
       "      <td>OffersScreenAppear</td>\n",
       "      <td>5746969938801999050</td>\n",
       "      <td>1565212517</td>\n",
       "      <td>246</td>\n",
       "    </tr>\n",
       "  </tbody>\n",
       "</table>\n",
       "<p>244126 rows × 4 columns</p>\n",
       "</div>"
      ],
      "text/plain": [
       "                      eventname         deviceidhash  eventtimestamp  expid\n",
       "0              MainScreenAppear  4575588528974610257      1564029816    246\n",
       "1              MainScreenAppear  7416695313311560658      1564053102    246\n",
       "2       PaymentScreenSuccessful  3518123091307005509      1564054127    248\n",
       "3              CartScreenAppear  3518123091307005509      1564054127    248\n",
       "4       PaymentScreenSuccessful  6217807653094995999      1564055322    248\n",
       "...                         ...                  ...             ...    ...\n",
       "244121         MainScreenAppear  4599628364049201812      1565212345    247\n",
       "244122         MainScreenAppear  5849806612437486590      1565212439    246\n",
       "244123         MainScreenAppear  5746969938801999050      1565212483    246\n",
       "244124         MainScreenAppear  5746969938801999050      1565212498    246\n",
       "244125       OffersScreenAppear  5746969938801999050      1565212517    246\n",
       "\n",
       "[244126 rows x 4 columns]"
      ]
     },
     "execution_count": 83,
     "metadata": {},
     "output_type": "execute_result"
    }
   ],
   "source": [
    "import pandas as pd\n",
    "import matplotlib.pyplot as plt\n",
    "from statsmodels.stats.proportion import proportions_ztest\n",
    "\n",
    "\n",
    "df = pd.read_csv('../data/processed/logs_exp_us_processado.csv', sep='\\t')\n",
    "df"
   ]
  },
  {
   "cell_type": "code",
   "execution_count": 84,
   "metadata": {},
   "outputs": [
    {
     "name": "stdout",
     "output_type": "stream",
     "text": [
      "<class 'pandas.core.frame.DataFrame'>\n",
      "RangeIndex: 244126 entries, 0 to 244125\n",
      "Data columns (total 4 columns):\n",
      " #   Column          Non-Null Count   Dtype \n",
      "---  ------          --------------   ----- \n",
      " 0   eventname       244126 non-null  object\n",
      " 1   deviceidhash    244126 non-null  int64 \n",
      " 2   eventtimestamp  244126 non-null  int64 \n",
      " 3   expid           244126 non-null  int64 \n",
      "dtypes: int64(3), object(1)\n",
      "memory usage: 7.5+ MB\n"
     ]
    }
   ],
   "source": [
    "df.info()"
   ]
  },
  {
   "cell_type": "code",
   "execution_count": 85,
   "metadata": {},
   "outputs": [
    {
     "name": "stdout",
     "output_type": "stream",
     "text": [
      "Index(['event_name', 'user_id', 'event_timestamp', 'experiment_id'], dtype='object')\n"
     ]
    }
   ],
   "source": [
    "# Organizando as colunas\n",
    "\n",
    "df.columns = ['event_name', 'user_id', 'event_timestamp', 'experiment_id']\n",
    "print(df.columns)"
   ]
  },
  {
   "cell_type": "code",
   "execution_count": 86,
   "metadata": {},
   "outputs": [
    {
     "name": "stdout",
     "output_type": "stream",
     "text": [
      "event_name         0\n",
      "user_id            0\n",
      "event_timestamp    0\n",
      "experiment_id      0\n",
      "dtype: int64\n",
      "\n",
      "event_name         object\n",
      "user_id             int64\n",
      "event_timestamp     int64\n",
      "experiment_id       int64\n",
      "dtype: object\n"
     ]
    }
   ],
   "source": [
    "# Limpando os dados\n",
    "\n",
    "print(df.isnull().sum())\n",
    "print()\n",
    "print(df.dtypes)\n"
   ]
  },
  {
   "cell_type": "code",
   "execution_count": 87,
   "metadata": {},
   "outputs": [
    {
     "name": "stdout",
     "output_type": "stream",
     "text": [
      "count                           244126\n",
      "mean     2019-08-04 10:18:35.842716160\n",
      "min                2019-07-25 04:43:36\n",
      "25%      2019-08-02 14:36:20.249999872\n",
      "50%                2019-08-04 11:49:55\n",
      "75%                2019-08-06 06:55:11\n",
      "max                2019-08-07 21:15:17\n",
      "Name: event_timestamp, dtype: object\n"
     ]
    }
   ],
   "source": [
    "# Conversão da coluna event_timestamp para datetime\n",
    "\n",
    "df['event_timestamp'] = pd.to_datetime(df['event_timestamp'], unit='s')\n",
    "print(df['event_timestamp'].describe())\n",
    "\n"
   ]
  },
  {
   "cell_type": "code",
   "execution_count": 88,
   "metadata": {},
   "outputs": [
    {
     "name": "stdout",
     "output_type": "stream",
     "text": [
      "      event_date_time  event_date\n",
      "0 2019-07-25 04:43:36  2019-07-25\n",
      "1 2019-07-25 11:11:42  2019-07-25\n",
      "2 2019-07-25 11:28:47  2019-07-25\n",
      "3 2019-07-25 11:28:47  2019-07-25\n",
      "4 2019-07-25 11:48:42  2019-07-25\n"
     ]
    }
   ],
   "source": [
    "# Extração de data e hora do evento\n",
    "\n",
    "df['event_date_time'] = df['event_timestamp']\n",
    "df['event_date'] = df['event_timestamp'].dt.date\n",
    "print(df[['event_date_time', 'event_date']].head())\n"
   ]
  },
  {
   "cell_type": "code",
   "execution_count": 89,
   "metadata": {},
   "outputs": [
    {
     "name": "stdout",
     "output_type": "stream",
     "text": [
      "Total de eventos registrados: 244126\n"
     ]
    }
   ],
   "source": [
    "# Quantos eventos ficam nos registros?\n",
    "\n",
    "total_eventos = len(df)\n",
    "print(f\"Total de eventos registrados: {total_eventos}\")\n"
   ]
  },
  {
   "cell_type": "code",
   "execution_count": 90,
   "metadata": {},
   "outputs": [
    {
     "name": "stdout",
     "output_type": "stream",
     "text": [
      "Total de usuários únicos: 7551\n"
     ]
    }
   ],
   "source": [
    "# Quantos usuários ficam nos registros?\n",
    "\n",
    "usuarios_unicos = df['user_id'].nunique()\n",
    "print(f\"Total de usuários únicos: {usuarios_unicos}\")\n"
   ]
  },
  {
   "cell_type": "code",
   "execution_count": 91,
   "metadata": {},
   "outputs": [
    {
     "name": "stdout",
     "output_type": "stream",
     "text": [
      "Média de eventos por usuário: 32.33\n"
     ]
    }
   ],
   "source": [
    "# Qual é o número médio de eventos por usuário?\n",
    "\n",
    "total_eventos = df.shape[0]\n",
    "usuarios_unicos = df['user_id'].nunique()\n",
    "media_eventos_por_usuario = total_eventos / usuarios_unicos\n",
    "print(f\"Média de eventos por usuário: {media_eventos_por_usuario:.2f}\")\n"
   ]
  },
  {
   "cell_type": "code",
   "execution_count": 92,
   "metadata": {},
   "outputs": [
    {
     "name": "stdout",
     "output_type": "stream",
     "text": [
      "Período dos dados: de 2019-07-25 04:43:36 até 2019-08-07 21:15:17\n"
     ]
    }
   ],
   "source": [
    "# Período de tempo dos dados\n",
    "\n",
    "inicio = df['event_timestamp'].min()\n",
    "fim = df['event_timestamp'].max()\n",
    "print(f\"Período dos dados: de {inicio} até {fim}\")\n"
   ]
  },
  {
   "cell_type": "code",
   "execution_count": 93,
   "metadata": {},
   "outputs": [
    {
     "name": "stderr",
     "output_type": "stream",
     "text": [
      "C:\\Users\\Usuário\\AppData\\Local\\Temp\\ipykernel_1304\\320939244.py:3: FutureWarning: 'H' is deprecated and will be removed in a future version, please use 'h' instead.\n",
      "  df['event_hour'] = df['event_timestamp'].dt.floor('H')\n"
     ]
    },
    {
     "data": {
      "image/png": "[encoded data removed]",
      "text/plain": [
       "<Figure size 1500x500 with 1 Axes>"
      ]
     },
     "metadata": {},
     "output_type": "display_data"
    }
   ],
   "source": [
    "# Visualização da distribuição de eventos ao longo do tempo\n",
    "\n",
    "df['event_hour'] = df['event_timestamp'].dt.floor('H') \n",
    "\n",
    "eventos_por_hora = df['event_hour'].value_counts().sort_index()\n",
    "\n",
    "plt.figure(figsize=(15, 5))\n",
    "eventos_por_hora.plot(kind='bar')\n",
    "plt.title('Distribuição de eventos por data e hora')\n",
    "plt.xlabel('Data e hora')\n",
    "plt.ylabel('Número de eventos')\n",
    "plt.xticks(ticks=range(0, len(eventos_por_hora), 12), labels=eventos_por_hora.index[::12], rotation=45)\n",
    "plt.tight_layout()\n",
    "plt.show()\n"
   ]
  },
  {
   "cell_type": "code",
   "execution_count": 94,
   "metadata": {},
   "outputs": [
    {
     "data": {
      "image/png": "[encoded data removed]",
      "text/plain": [
       "<Figure size 1200x500 with 1 Axes>"
      ]
     },
     "metadata": {},
     "output_type": "display_data"
    },
    {
     "name": "stdout",
     "output_type": "stream",
     "text": [
      "Resumo de eventos por dia:\n",
      "count       14.000000\n",
      "mean     17437.571429\n",
      "std      17734.124149\n",
      "min          9.000000\n",
      "25%        124.750000\n",
      "50%      16587.500000\n",
      "75%      35042.250000\n",
      "max      36229.000000\n",
      "Name: count, dtype: float64\n"
     ]
    }
   ],
   "source": [
    "# Contagem de eventos por data\n",
    "\n",
    "eventos_por_dia = df['event_date'].value_counts().sort_index()\n",
    "\n",
    "plt.figure(figsize=(12, 5))\n",
    "eventos_por_dia.plot(kind='bar')\n",
    "plt.title('Eventos por dia')\n",
    "plt.xlabel('Data')\n",
    "plt.ylabel('Número de eventos')\n",
    "plt.xticks(rotation=45)\n",
    "plt.tight_layout()\n",
    "plt.show()\n",
    "\n",
    "print(\"Resumo de eventos por dia:\")\n",
    "print(eventos_por_dia.describe())\n"
   ]
  },
  {
   "cell_type": "code",
   "execution_count": 95,
   "metadata": {},
   "outputs": [
    {
     "data": {
      "text/plain": [
       "<Axes: title={'center': 'Usuários únicos por dia'}, xlabel='event_date'>"
      ]
     },
     "execution_count": 95,
     "metadata": {},
     "output_type": "execute_result"
    },
    {
     "data": {
      "image/png": "[encoded data removed]",
      "text/plain": [
       "<Figure size 1200x500 with 1 Axes>"
      ]
     },
     "metadata": {},
     "output_type": "display_data"
    }
   ],
   "source": [
    "# Contagem de usuários únicos por dia\n",
    "\n",
    "usuarios_por_dia = df.groupby('event_date')['user_id'].nunique()\n",
    "usuarios_por_dia.plot(kind='bar', figsize=(12,5), title='Usuários únicos por dia')\n"
   ]
  },
  {
   "cell_type": "code",
   "execution_count": 96,
   "metadata": {},
   "outputs": [
    {
     "name": "stdout",
     "output_type": "stream",
     "text": [
      "event_date\n",
      "2019-07-25        9\n",
      "2019-07-26       31\n",
      "2019-07-27       55\n",
      "2019-07-28      105\n",
      "2019-07-29      184\n",
      "2019-07-30      413\n",
      "2019-07-31     2031\n",
      "2019-08-01    36229\n",
      "2019-08-02    35606\n",
      "2019-08-03    33351\n",
      "2019-08-04    33033\n",
      "2019-08-05    36113\n",
      "2019-08-06    35822\n",
      "2019-08-07    31144\n",
      "Name: count, dtype: int64\n"
     ]
    }
   ],
   "source": [
    "# Contagem de eventos por dia\n",
    "\n",
    "eventos_por_dia = df['event_date'].value_counts().sort_index()\n",
    "print(eventos_por_dia)\n"
   ]
  },
  {
   "cell_type": "code",
   "execution_count": 97,
   "metadata": {},
   "outputs": [],
   "source": [
    "# Filtrando dados a partir do dia 1 de agosto de 2019\n",
    "# Considero que antes desta data os dados são bem escassos e portanto não são significativos para impactar a análise - abaixo terá a quantidade de eventos perdidos\n",
    "\n",
    "df = df[df['event_date'] >= pd.to_datetime('2019-08-01').date()]"
   ]
  },
  {
   "cell_type": "markdown",
   "metadata": {},
   "source": [
    "Considero que antes desta data de corte os dados são bem escassos e portanto não serão significativos a ponto de impactar a análise.\n",
    "Logo abaixo trago o número de eventos perdidos - são poucos.\n"
   ]
  },
  {
   "cell_type": "code",
   "execution_count": 98,
   "metadata": {},
   "outputs": [
    {
     "name": "stdout",
     "output_type": "stream",
     "text": [
      "Período confiável dos dados: de 2019-08-01 até 2019-08-07\n"
     ]
    }
   ],
   "source": [
    "# Momento em que os dados começam a ser completos\n",
    "\n",
    "inicio_real = df['event_timestamp'].min()\n",
    "fim_real = df['event_timestamp'].max()\n",
    "print(f\"Período confiável dos dados: de {inicio_real.date()} até {fim_real.date()}\")\n"
   ]
  },
  {
   "cell_type": "code",
   "execution_count": 99,
   "metadata": {},
   "outputs": [
    {
     "name": "stdout",
     "output_type": "stream",
     "text": [
      "Eventos perdidos: 2828 (1.16%)\n",
      "Usuários perdidos: 17 (0.23%)\n"
     ]
    }
   ],
   "source": [
    "# Eventos e usuários perdidos ao excluir os dados mais antigos\n",
    "\n",
    "eventos_apos_corte = df.shape[0]\n",
    "usuarios_apos_corte = df['user_id'].nunique()\n",
    "\n",
    "eventos_perdidos = total_eventos - eventos_apos_corte\n",
    "usuarios_perdidos = usuarios_unicos - usuarios_apos_corte\n",
    "\n",
    "perc_eventos = eventos_perdidos / total_eventos * 100\n",
    "perc_usuarios = usuarios_perdidos / usuarios_unicos * 100\n",
    "\n",
    "print(f\"Eventos perdidos: {eventos_perdidos} ({perc_eventos:.2f}%)\")\n",
    "print(f\"Usuários perdidos: {usuarios_perdidos} ({perc_usuarios:.2f}%)\")\n",
    "\n"
   ]
  },
  {
   "cell_type": "code",
   "execution_count": 100,
   "metadata": {},
   "outputs": [
    {
     "name": "stdout",
     "output_type": "stream",
     "text": [
      "experiment_id\n",
      "246    2484\n",
      "247    2513\n",
      "248    2537\n",
      "Name: user_id, dtype: int64\n"
     ]
    }
   ],
   "source": [
    "# Usuários por grupo experimental\n",
    "\n",
    "usuarios_por_grupo = df.groupby('experiment_id')['user_id'].nunique()\n",
    "print(usuarios_por_grupo)\n"
   ]
  },
  {
   "cell_type": "code",
   "execution_count": 101,
   "metadata": {},
   "outputs": [
    {
     "name": "stdout",
     "output_type": "stream",
     "text": [
      "event_name\n",
      "MainScreenAppear           117431\n",
      "OffersScreenAppear          46350\n",
      "CartScreenAppear            42365\n",
      "PaymentScreenSuccessful     34113\n",
      "Tutorial                     1039\n",
      "Name: count, dtype: int64\n"
     ]
    }
   ],
   "source": [
    "# Passo 4 \n",
    "# Eventos únicos por frequência\n",
    "\n",
    "eventos_frequencia = df['event_name'].value_counts()\n",
    "print(eventos_frequencia)\n"
   ]
  },
  {
   "cell_type": "code",
   "execution_count": 102,
   "metadata": {},
   "outputs": [
    {
     "data": {
      "text/html": [
       "<div>\n",
       "<style scoped>\n",
       "    .dataframe tbody tr th:only-of-type {\n",
       "        vertical-align: middle;\n",
       "    }\n",
       "\n",
       "    .dataframe tbody tr th {\n",
       "        vertical-align: top;\n",
       "    }\n",
       "\n",
       "    .dataframe thead th {\n",
       "        text-align: right;\n",
       "    }\n",
       "</style>\n",
       "<table border=\"1\" class=\"dataframe\">\n",
       "  <thead>\n",
       "    <tr style=\"text-align: right;\">\n",
       "      <th></th>\n",
       "      <th>usuarios_unicos</th>\n",
       "      <th>proporcao</th>\n",
       "      <th>proporcao_percentual</th>\n",
       "    </tr>\n",
       "    <tr>\n",
       "      <th>event_name</th>\n",
       "      <th></th>\n",
       "      <th></th>\n",
       "      <th></th>\n",
       "    </tr>\n",
       "  </thead>\n",
       "  <tbody>\n",
       "    <tr>\n",
       "      <th>MainScreenAppear</th>\n",
       "      <td>7419</td>\n",
       "      <td>0.984736</td>\n",
       "      <td>98.47</td>\n",
       "    </tr>\n",
       "    <tr>\n",
       "      <th>OffersScreenAppear</th>\n",
       "      <td>4593</td>\n",
       "      <td>0.609636</td>\n",
       "      <td>60.96</td>\n",
       "    </tr>\n",
       "    <tr>\n",
       "      <th>CartScreenAppear</th>\n",
       "      <td>3734</td>\n",
       "      <td>0.495620</td>\n",
       "      <td>49.56</td>\n",
       "    </tr>\n",
       "    <tr>\n",
       "      <th>PaymentScreenSuccessful</th>\n",
       "      <td>3539</td>\n",
       "      <td>0.469737</td>\n",
       "      <td>46.97</td>\n",
       "    </tr>\n",
       "    <tr>\n",
       "      <th>Tutorial</th>\n",
       "      <td>840</td>\n",
       "      <td>0.111495</td>\n",
       "      <td>11.15</td>\n",
       "    </tr>\n",
       "  </tbody>\n",
       "</table>\n",
       "</div>"
      ],
      "text/plain": [
       "                         usuarios_unicos  proporcao  proporcao_percentual\n",
       "event_name                                                               \n",
       "MainScreenAppear                    7419   0.984736                 98.47\n",
       "OffersScreenAppear                  4593   0.609636                 60.96\n",
       "CartScreenAppear                    3734   0.495620                 49.56\n",
       "PaymentScreenSuccessful             3539   0.469737                 46.97\n",
       "Tutorial                             840   0.111495                 11.15"
      ]
     },
     "execution_count": 102,
     "metadata": {},
     "output_type": "execute_result"
    }
   ],
   "source": [
    "# Calculando usuários únicos por evento\n",
    "\n",
    "total_usuarios = df['user_id'].nunique()\n",
    "\n",
    "usuarios_por_evento = df.groupby('event_name')['user_id'].nunique().sort_values(ascending=False)\n",
    "\n",
    "proporcao_usuarios = (usuarios_por_evento / total_usuarios).sort_values(ascending=False)\n",
    "\n",
    "funil_df = pd.DataFrame({\n",
    "    'usuarios_unicos': usuarios_por_evento,\n",
    "    'proporcao': proporcao_usuarios\n",
    "})\n",
    "\n",
    "funil_df['proporcao_percentual'] = (funil_df['proporcao'] * 100).round(2)\n",
    "\n",
    "funil_df\n"
   ]
  },
  {
   "cell_type": "markdown",
   "metadata": {},
   "source": [
    "O funil parece estar bem saudável! A taxa de conversão geral é alta (~47%).\n",
    "\n",
    "A maior queda está entre a MainScreen e a OffersScreen — talvez o app não esteja incentivando o clique ou mostrando bem os produtos.\n",
    "\n",
    "Entre quem entra no carrinho e quem compra, a desistência é bem pequena, indicando boa experiência de compra."
   ]
  },
  {
   "cell_type": "markdown",
   "metadata": {},
   "source": [
    "#### Em que ordem as ações ocorreram?\n",
    "\n",
    "1° MainScreenAppear - O app é iniciado e o usuário vê a tela principal. Ponto de entrada lógico.\n",
    "\n",
    "2° OffersScreenAppear - O usuário navega pelas promoções ou produtos disponíveis.\n",
    "\n",
    "3° CartScreenAppear - Após escolher produtos, ele acessa o carrinho para revisar a compra.\n",
    "\n",
    "4°PaymentScreenSuccessful - O usuário finaliza a compra com sucesso.\n",
    "\n",
    "5° Tutorial - Geralmente aparece apenas para novos usuários ou na primeira vez que o app é aberto.\n",
    "\n"
   ]
  },
  {
   "cell_type": "code",
   "execution_count": 103,
   "metadata": {},
   "outputs": [
    {
     "name": "stdout",
     "output_type": "stream",
     "text": [
      "Main → Offers: 61.91%\n",
      "Offers → Cart: 81.30%\n",
      "Cart → Payment: 94.78%\n"
     ]
    }
   ],
   "source": [
    "# Proporção de usuários na etapa B para o número de usuários na etapa A e a proporção de usuários na etapa C para o número na etapa B)\n",
    "\n",
    "funil_df_main = funil_df.loc['MainScreenAppear', 'usuarios_unicos']\n",
    "funil_df_offers = funil_df.loc['OffersScreenAppear']['usuarios_unicos']\n",
    "funil_df_cart = funil_df.loc['CartScreenAppear']['usuarios_unicos']\n",
    "funil_df_payment = funil_df.loc['PaymentScreenSuccessful']['usuarios_unicos']\n",
    "\n",
    "conv_main_to_offers = funil_df_offers / funil_df_main\n",
    "conv_offers_to_cart = funil_df_cart / funil_df_offers\n",
    "conv_cart_to_payment = funil_df_payment / funil_df_cart\n",
    "\n",
    "print(f\"Main → Offers: {conv_main_to_offers:.2%}\")\n",
    "print(f\"Offers → Cart: {conv_offers_to_cart:.2%}\")\n",
    "print(f\"Cart → Payment: {conv_cart_to_payment:.2%}\")\n"
   ]
  },
  {
   "cell_type": "markdown",
   "metadata": {},
   "source": [
    "#### Em qual fase se perde mais usuário?\n",
    " \n",
    "A maior perda de usuários ocorre entre a tela principal (MainScreenAppear) e a tela de ofertas (OffersScreenAppear).\n",
    "Aproximadamente 38% dos usuários não avançam além da tela inicial, o que sugere que pode haver barreiras ou falta de incentivo para explorar os produtos."
   ]
  },
  {
   "cell_type": "code",
   "execution_count": 104,
   "metadata": {},
   "outputs": [
    {
     "name": "stdout",
     "output_type": "stream",
     "text": [
      "Usuários que completaram o funil: 3429\n",
      "Proporção em relação aos que iniciaram: 46.22%\n"
     ]
    }
   ],
   "source": [
    "# Qual é a parcela de usuários que faz o caminho inteiro, desde o primeiro evento até o pagamento?\n",
    "\n",
    "usuarios_main = set(df[df['event_name'] == 'MainScreenAppear']['user_id'])\n",
    "usuarios_offers = set(df[df['event_name'] == 'OffersScreenAppear']['user_id'])\n",
    "usuarios_cart = set(df[df['event_name'] == 'CartScreenAppear']['user_id'])\n",
    "usuarios_payment = set(df[df['event_name'] == 'PaymentScreenSuccessful']['user_id'])\n",
    "\n",
    "usuarios_funil_completo = usuarios_main & usuarios_offers & usuarios_cart & usuarios_payment\n",
    "\n",
    "num_completaram_funil = len(usuarios_funil_completo)\n",
    "\n",
    "total_usuarios = len(usuarios_main)\n",
    "\n",
    "proporcao_completaram = num_completaram_funil / total_usuarios\n",
    "\n",
    "print(f\"Usuários que completaram o funil: {num_completaram_funil}\")\n",
    "print(f\"Proporção em relação aos que iniciaram: {proporcao_completaram:.2%}\")\n"
   ]
  },
  {
   "cell_type": "markdown",
   "metadata": {},
   "source": [
    "Quase metade dos usuários que abrem o app completam toda a jornada até a compra, o que é uma taxa de conversão excelente!"
   ]
  },
  {
   "cell_type": "code",
   "execution_count": 105,
   "metadata": {},
   "outputs": [
    {
     "name": "stdout",
     "output_type": "stream",
     "text": [
      "experiment_id\n",
      "246    2484\n",
      "247    2513\n",
      "248    2537\n",
      "Name: user_id, dtype: int64\n"
     ]
    }
   ],
   "source": [
    "# Passo 5\n",
    "# Quantos usuários há em cada grupo?\n",
    "\n",
    "usuarios_por_grupo = df.groupby('experiment_id')['user_id'].nunique().sort_index()\n",
    "print(usuarios_por_grupo)\n"
   ]
  },
  {
   "cell_type": "code",
   "execution_count": 106,
   "metadata": {},
   "outputs": [
    {
     "name": "stdout",
     "output_type": "stream",
     "text": [
      "Grupo 246 - Conversão: 0.4759 (1166/2450)\n",
      "Grupo 247 - Conversão: 0.4544 (1125/2476)\n"
     ]
    }
   ],
   "source": [
    "# Diferença estatisticamente significativa entre as amostragens 246 e 247.\n",
    "\n",
    "def funil_completo(df, grupo_id):\n",
    "    grupo = df[df['experiment_id'] == grupo_id]\n",
    "    main = set(grupo[grupo['event_name'] == 'MainScreenAppear']['user_id'])\n",
    "    offers = set(grupo[grupo['event_name'] == 'OffersScreenAppear']['user_id'])\n",
    "    cart = set(grupo[grupo['event_name'] == 'CartScreenAppear']['user_id'])\n",
    "    payment = set(grupo[grupo['event_name'] == 'PaymentScreenSuccessful']['user_id'])\n",
    "    return main & offers & cart & payment, main\n",
    "\n",
    "completos_246, base_246 = funil_completo(df, 246)\n",
    "completos_247, base_247 = funil_completo(df, 247)\n",
    "\n",
    "n_246 = len(base_246)\n",
    "n_247 = len(base_247)\n",
    "\n",
    "conv_246 = len(completos_246) / n_246\n",
    "conv_247 = len(completos_247) / n_247\n",
    "\n",
    "print(f\"Grupo 246 - Conversão: {conv_246:.4f} ({len(completos_246)}/{n_246})\")\n",
    "print(f\"Grupo 247 - Conversão: {conv_247:.4f} ({len(completos_247)}/{n_247})\")\n"
   ]
  },
  {
   "cell_type": "code",
   "execution_count": 107,
   "metadata": {},
   "outputs": [
    {
     "name": "stdout",
     "output_type": "stream",
     "text": [
      "Estatística z: 1.5166\n",
      "Valor p: 0.1294\n"
     ]
    }
   ],
   "source": [
    "# Teste de hipótese para diferença de proporções\n",
    "\n",
    "sucessos = [len(completos_246), len(completos_247)]\n",
    "\n",
    "nobs = [n_246, n_247]\n",
    "\n",
    "stat, pval = proportions_ztest(sucessos, nobs=nobs)\n",
    "\n",
    "print(f\"Estatística z: {stat:.4f}\")\n",
    "print(f\"Valor p: {pval:.4f}\")\n"
   ]
  },
  {
   "cell_type": "markdown",
   "metadata": {},
   "source": [
    "O valor p = 0.1294 é maior que 0.05, portanto não há diferença estatisticamente significativa entre os grupos 246 e 247."
   ]
  },
  {
   "cell_type": "code",
   "execution_count": 108,
   "metadata": {},
   "outputs": [
    {
     "name": "stdout",
     "output_type": "stream",
     "text": [
      "Evento mais popular: MainScreenAppear (117431 ocorrências)\n"
     ]
    }
   ],
   "source": [
    "# Evento mais popular\n",
    "\n",
    "evento_mais_popular = df['event_name'].value_counts().idxmax()\n",
    "quantidade = df['event_name'].value_counts().max()\n",
    "print(f\"Evento mais popular: {evento_mais_popular} ({quantidade} ocorrências)\")\n"
   ]
  },
  {
   "cell_type": "code",
   "execution_count": 109,
   "metadata": {},
   "outputs": [
    {
     "name": "stdout",
     "output_type": "stream",
     "text": [
      "                    evento  grupo_246_%  grupo_247_%  p_valor  \\\n",
      "4  PaymentScreenSuccessful        48.31        46.08   0.1146   \n",
      "3         CartScreenAppear        50.97        49.26   0.2288   \n",
      "2       OffersScreenAppear        62.08        60.49   0.2481   \n",
      "1         MainScreenAppear        98.63        98.53   0.7571   \n",
      "0                 Tutorial        11.19        11.26   0.9377   \n",
      "\n",
      "   diferenca_significativa  \n",
      "4                    False  \n",
      "3                    False  \n",
      "2                    False  \n",
      "1                    False  \n",
      "0                    False  \n"
     ]
    }
   ],
   "source": [
    "# Número de usuarios que realizam a ação\n",
    "\n",
    "def comparar_evento(df, event_name, grupo_a=246, grupo_b=247):\n",
    "\n",
    "    grupo_a_df = df[(df['experiment_id'] == grupo_a)]\n",
    "    grupo_b_df = df[(df['experiment_id'] == grupo_b)]\n",
    "    \n",
    "    usuarios_a = grupo_a_df[grupo_a_df['event_name'] == event_name]['user_id'].nunique()\n",
    "    usuarios_b = grupo_b_df[grupo_b_df['event_name'] == event_name]['user_id'].nunique()\n",
    "    \n",
    "    total_a = grupo_a_df['user_id'].nunique()\n",
    "    total_b = grupo_b_df['user_id'].nunique()\n",
    "    \n",
    "    proporcao_a = usuarios_a / total_a\n",
    "    proporcao_b = usuarios_b / total_b\n",
    "    \n",
    "    stat, pval = proportions_ztest([usuarios_a, usuarios_b], [total_a, total_b])\n",
    "\n",
    "    resultado = {\n",
    "        'evento': event_name,\n",
    "        'grupo_246_%': round(proporcao_a * 100, 2),\n",
    "        'grupo_247_%': round(proporcao_b * 100, 2),\n",
    "        'p_valor': round(pval, 4),\n",
    "        'diferenca_significativa': pval < 0.05\n",
    "    }\n",
    "    \n",
    "    return resultado\n",
    "\n",
    "eventos = df['event_name'].unique()\n",
    "\n",
    "resultados = [comparar_evento(df, evento) for evento in eventos]\n",
    "\n",
    "import pandas as pd\n",
    "resultados_df = pd.DataFrame(resultados)\n",
    "\n",
    "resultados_df.sort_values('p_valor', inplace=True)\n",
    "print(resultados_df.sort_values('p_valor'))"
   ]
  },
  {
   "cell_type": "markdown",
   "metadata": {},
   "source": [
    "Não houve diferença estatisticamente significativa em nenhum dos eventos entre os grupos de controle.\n",
    "Isso confirma que a divisão dos grupos foi feita corretamente e que o experimento está equilibrado"
   ]
  },
  {
   "cell_type": "code",
   "execution_count": 110,
   "metadata": {},
   "outputs": [],
   "source": [
    "# Comparando os resultados com os de cada um dos grupos e criando uma função mais genérica\n",
    "\n",
    "def comparar_evento_grupos(df, event_name, grupo_a, grupo_b):\n",
    "    grupo_a_df = df[df['experiment_id'] == grupo_a]\n",
    "    grupo_b_df = df[df['experiment_id'] == grupo_b]\n",
    "    \n",
    "    usuarios_a = grupo_a_df[grupo_a_df['event_name'] == event_name]['user_id'].nunique()\n",
    "    usuarios_b = grupo_b_df[grupo_b_df['event_name'] == event_name]['user_id'].nunique()\n",
    "    \n",
    "    total_a = grupo_a_df['user_id'].nunique()\n",
    "    total_b = grupo_b_df['user_id'].nunique()\n",
    "    \n",
    "    proporcao_a = usuarios_a / total_a\n",
    "    proporcao_b = usuarios_b / total_b\n",
    "\n",
    "    try:\n",
    "        stat, pval = proportions_ztest([usuarios_a, usuarios_b], [total_a, total_b])\n",
    "    except:\n",
    "        pval = None\n",
    "\n",
    "    return {\n",
    "        'evento': event_name,\n",
    "        'grupo_a': grupo_a,\n",
    "        'grupo_b': grupo_b,\n",
    "        'grupo_a_%': round(proporcao_a * 100, 2),\n",
    "        'grupo_b_%': round(proporcao_b * 100, 2),\n",
    "        'p_valor': round(pval, 4) if pval is not None else 'erro',\n",
    "        'diferenca_significativa': pval is not None and pval < 0.05\n",
    "    }\n"
   ]
  },
  {
   "cell_type": "code",
   "execution_count": 111,
   "metadata": {},
   "outputs": [
    {
     "name": "stdout",
     "output_type": "stream",
     "text": [
      "                     evento   grupo_a  grupo_b  grupo_a_%  grupo_b_%  p_valor  \\\n",
      "3          CartScreenAppear       246      248      50.97      48.48   0.0784   \n",
      "13         CartScreenAppear  controle      248      50.11      48.48   0.1818   \n",
      "8          CartScreenAppear       247      248      49.26      48.48   0.5786   \n",
      "11         MainScreenAppear  controle      248      98.58      98.27   0.2942   \n",
      "1          MainScreenAppear       246      248      98.63      98.27   0.2950   \n",
      "6          MainScreenAppear       247      248      98.53      98.27   0.4587   \n",
      "2        OffersScreenAppear       246      248      62.08      60.35   0.2084   \n",
      "12       OffersScreenAppear  controle      248      61.28      60.35   0.4343   \n",
      "7        OffersScreenAppear       247      248      60.49      60.35   0.9198   \n",
      "4   PaymentScreenSuccessful       246      248      48.31      46.55   0.2123   \n",
      "14  PaymentScreenSuccessful  controle      248      47.19      46.55   0.6004   \n",
      "9   PaymentScreenSuccessful       247      248      46.08      46.55   0.7373   \n",
      "10                 Tutorial  controle      248      11.23      11.00   0.7649   \n",
      "5                  Tutorial       247      248      11.26      11.00   0.7653   \n",
      "0                  Tutorial       246      248      11.19      11.00   0.8264   \n",
      "\n",
      "    diferenca_significativa  \n",
      "3                     False  \n",
      "13                    False  \n",
      "8                     False  \n",
      "11                    False  \n",
      "1                     False  \n",
      "6                     False  \n",
      "2                     False  \n",
      "12                    False  \n",
      "7                     False  \n",
      "4                     False  \n",
      "14                    False  \n",
      "9                     False  \n",
      "10                    False  \n",
      "5                     False  \n",
      "0                     False  \n"
     ]
    }
   ],
   "source": [
    "# Comparando os grupos 246 e 248, 247 e 248, e o grupo combinado (246+247) contra 248\n",
    "\n",
    "eventos = df['event_name'].unique()\n",
    "\n",
    "resultados_vs_246 = [comparar_evento_grupos(df, e, 246, 248) for e in eventos]\n",
    "\n",
    "resultados_vs_247 = [comparar_evento_grupos(df, e, 247, 248) for e in eventos]\n",
    "\n",
    "controle = df[df['experiment_id'].isin([246, 247])].copy()\n",
    "controle['experiment_id'] = 'controle'\n",
    "\n",
    "df_comparado = pd.concat([controle, df[df['experiment_id'] == 248]])\n",
    "\n",
    "resultados_vs_combinado = [comparar_evento_grupos(df_comparado, e, 'controle', 248) for e in eventos]\n",
    "\n",
    "todos_resultados = pd.DataFrame(resultados_vs_246 + resultados_vs_247 + resultados_vs_combinado)\n",
    "\n",
    "todos_resultados = todos_resultados.sort_values(by=['evento', 'p_valor'])\n",
    "\n",
    "print(todos_resultados)\n"
   ]
  },
  {
   "cell_type": "markdown",
   "metadata": {},
   "source": [
    "Os resultados indicam que a alteração da fonte não teve impacto estatisticamente significativo no comportamento dos usuários, em nenhuma etapa do funil analisado.\n",
    "\n",
    "Isso se confirma tanto ao comparar o grupo de teste com cada controle individualmente (246 e 247), quanto com o grupo combinado.\n",
    "\n",
    "Portanto, a nova fonte pode ser considerada segura para adoção, já que não prejudicou a conversão ou o uso do app."
   ]
  },
  {
   "cell_type": "markdown",
   "metadata": {},
   "source": [
    "Foi utilizado um nível de significância padrão de 5% (α = 0.05). Foram realizados 15 testes de hipóteses estatísticas, o que levanta a possibilidade de falsos positivos por múltiplas comparações.\n",
    "\n",
    "Aplicamos a correção de Bonferroni, ajustando o nível de significância para 0,0033. Nenhum dos testes apresentou valor-p abaixo desse limiar. Portanto, não há evidência estatística de que a alteração da fonte tenha impactado o comportamento dos usuários."
   ]
  }
 ],
 "metadata": {
  "ExecuteTimeLog": [
   {
    "duration": 1192,
    "start_time": "2025-03-24T16:46:30.987Z"
   },
   {
    "duration": 224,
    "start_time": "2025-03-24T16:46:45.374Z"
   },
   {
    "duration": 200,
    "start_time": "2025-03-24T16:48:50.188Z"
   },
   {
    "duration": 197,
    "start_time": "2025-03-24T16:49:01.051Z"
   },
   {
    "duration": 182,
    "start_time": "2025-03-24T16:49:11.768Z"
   },
   {
    "duration": 189,
    "start_time": "2025-03-24T16:49:25.425Z"
   },
   {
    "duration": 202,
    "start_time": "2025-03-24T16:49:38.361Z"
   },
   {
    "duration": 14,
    "start_time": "2025-03-24T16:49:54.986Z"
   },
   {
    "duration": 41,
    "start_time": "2025-03-24T16:50:41.700Z"
   },
   {
    "duration": 379,
    "start_time": "2025-03-24T16:51:48.585Z"
   },
   {
    "duration": 3,
    "start_time": "2025-03-24T16:52:46.684Z"
   },
   {
    "duration": 28,
    "start_time": "2025-03-24T16:53:27.157Z"
   },
   {
    "duration": 101,
    "start_time": "2025-03-24T16:53:57.310Z"
   },
   {
    "duration": 19,
    "start_time": "2025-03-24T16:54:02.819Z"
   },
   {
    "duration": 3,
    "start_time": "2025-03-24T16:54:05.235Z"
   },
   {
    "duration": 3,
    "start_time": "2025-03-24T16:54:08.657Z"
   },
   {
    "duration": 11,
    "start_time": "2025-03-24T16:56:05.022Z"
   },
   {
    "duration": 11,
    "start_time": "2025-03-24T16:57:11.895Z"
   },
   {
    "duration": 8,
    "start_time": "2025-03-24T16:57:38.075Z"
   },
   {
    "duration": 30,
    "start_time": "2025-03-24T16:58:45.921Z"
   },
   {
    "duration": 101,
    "start_time": "2025-03-24T16:59:10.276Z"
   },
   {
    "duration": 16,
    "start_time": "2025-03-24T16:59:16.547Z"
   },
   {
    "duration": 5,
    "start_time": "2025-03-24T16:59:18.549Z"
   },
   {
    "duration": 16,
    "start_time": "2025-03-24T16:59:20.429Z"
   },
   {
    "duration": 19,
    "start_time": "2025-03-24T16:59:31.422Z"
   },
   {
    "duration": 54,
    "start_time": "2025-03-24T17:01:00.509Z"
   },
   {
    "duration": 3,
    "start_time": "2025-03-24T17:03:45.596Z"
   },
   {
    "duration": 6,
    "start_time": "2025-03-24T17:04:43.000Z"
   },
   {
    "duration": 7,
    "start_time": "2025-03-24T17:05:33.066Z"
   },
   {
    "duration": 5,
    "start_time": "2025-03-24T17:07:38.330Z"
   },
   {
    "duration": 4418,
    "start_time": "2025-03-24T17:09:09.607Z"
   },
   {
    "duration": 324,
    "start_time": "2025-03-24T17:11:04.964Z"
   },
   {
    "duration": 1017,
    "start_time": "2025-03-24T17:11:20.951Z"
   },
   {
    "duration": 974,
    "start_time": "2025-03-24T17:11:47.382Z"
   },
   {
    "duration": 296,
    "start_time": "2025-03-24T17:14:23.272Z"
   },
   {
    "duration": 193,
    "start_time": "2025-03-24T17:15:49.066Z"
   },
   {
    "duration": 24,
    "start_time": "2025-03-24T17:16:02.400Z"
   },
   {
    "duration": 20,
    "start_time": "2025-03-24T17:17:46.839Z"
   },
   {
    "duration": 20,
    "start_time": "2025-03-24T17:19:07.700Z"
   },
   {
    "duration": 5,
    "start_time": "2025-03-24T17:19:14.429Z"
   },
   {
    "duration": 100,
    "start_time": "2025-03-24T17:19:47.890Z"
   },
   {
    "duration": 15,
    "start_time": "2025-03-24T17:19:51.955Z"
   },
   {
    "duration": 4,
    "start_time": "2025-03-24T17:19:53.215Z"
   },
   {
    "duration": 13,
    "start_time": "2025-03-24T17:19:54.183Z"
   },
   {
    "duration": 18,
    "start_time": "2025-03-24T17:19:55.963Z"
   },
   {
    "duration": 50,
    "start_time": "2025-03-24T17:19:57.358Z"
   },
   {
    "duration": 3,
    "start_time": "2025-03-24T17:19:58.656Z"
   },
   {
    "duration": 7,
    "start_time": "2025-03-24T17:19:59.991Z"
   },
   {
    "duration": 7,
    "start_time": "2025-03-24T17:20:01.264Z"
   },
   {
    "duration": 5,
    "start_time": "2025-03-24T17:20:03.754Z"
   },
   {
    "duration": 975,
    "start_time": "2025-03-24T17:20:07.406Z"
   },
   {
    "duration": 322,
    "start_time": "2025-03-24T17:20:14.362Z"
   },
   {
    "duration": 184,
    "start_time": "2025-03-24T17:20:19.340Z"
   },
   {
    "duration": 20,
    "start_time": "2025-03-24T17:20:26.341Z"
   },
   {
    "duration": 20,
    "start_time": "2025-03-24T17:20:32.364Z"
   },
   {
    "duration": 4,
    "start_time": "2025-03-24T17:20:33.297Z"
   },
   {
    "duration": 25,
    "start_time": "2025-03-24T17:21:22.036Z"
   },
   {
    "duration": 8,
    "start_time": "2025-03-24T17:22:46.643Z"
   },
   {
    "duration": 5,
    "start_time": "2025-03-24T17:23:46.232Z"
   },
   {
    "duration": 6,
    "start_time": "2025-03-24T17:23:49.604Z"
   },
   {
    "duration": 23,
    "start_time": "2025-03-24T17:25:23.496Z"
   },
   {
    "duration": 19,
    "start_time": "2025-03-24T17:27:58.398Z"
   },
   {
    "duration": 51,
    "start_time": "2025-03-24T17:29:18.196Z"
   },
   {
    "duration": 4,
    "start_time": "2025-03-24T17:35:46.188Z"
   },
   {
    "duration": 4,
    "start_time": "2025-03-24T17:37:51.401Z"
   },
   {
    "duration": 81,
    "start_time": "2025-03-24T17:41:03.932Z"
   },
   {
    "duration": 22,
    "start_time": "2025-03-24T17:43:38.893Z"
   },
   {
    "duration": 69,
    "start_time": "2025-03-24T17:45:39.848Z"
   },
   {
    "duration": 374,
    "start_time": "2025-03-24T17:45:51.485Z"
   },
   {
    "duration": 7,
    "start_time": "2025-03-24T17:46:53.286Z"
   },
   {
    "duration": 32,
    "start_time": "2025-03-24T17:49:43.791Z"
   },
   {
    "duration": 4,
    "start_time": "2025-03-24T17:51:33.179Z"
   },
   {
    "duration": 5,
    "start_time": "2025-03-24T17:51:45.908Z"
   },
   {
    "duration": 158,
    "start_time": "2025-03-24T17:51:50.215Z"
   },
   {
    "duration": 172,
    "start_time": "2025-03-24T17:52:24.024Z"
   },
   {
    "duration": 146,
    "start_time": "2025-03-24T17:54:12.019Z"
   },
   {
    "duration": 5,
    "start_time": "2025-03-24T18:02:21.386Z"
   },
   {
    "duration": 519,
    "start_time": "2025-03-24T18:02:30.122Z"
   },
   {
    "duration": 465,
    "start_time": "2025-03-24T22:44:45.938Z"
   },
   {
    "duration": 21,
    "start_time": "2025-03-24T22:44:46.405Z"
   },
   {
    "duration": 3,
    "start_time": "2025-03-24T22:44:46.428Z"
   },
   {
    "duration": 15,
    "start_time": "2025-03-24T22:44:46.434Z"
   },
   {
    "duration": 48,
    "start_time": "2025-03-24T22:44:46.451Z"
   },
   {
    "duration": 55,
    "start_time": "2025-03-24T22:44:46.501Z"
   },
   {
    "duration": 3,
    "start_time": "2025-03-24T22:44:46.558Z"
   },
   {
    "duration": 28,
    "start_time": "2025-03-24T22:44:46.563Z"
   },
   {
    "duration": 8,
    "start_time": "2025-03-24T22:44:46.594Z"
   },
   {
    "duration": 5,
    "start_time": "2025-03-24T22:44:46.604Z"
   },
   {
    "duration": 1163,
    "start_time": "2025-03-24T22:44:46.611Z"
   },
   {
    "duration": 286,
    "start_time": "2025-03-24T22:44:47.775Z"
   },
   {
    "duration": 219,
    "start_time": "2025-03-24T22:44:48.063Z"
   },
   {
    "duration": 19,
    "start_time": "2025-03-24T22:44:48.288Z"
   },
   {
    "duration": 22,
    "start_time": "2025-03-24T22:44:48.309Z"
   },
   {
    "duration": 6,
    "start_time": "2025-03-24T22:44:48.333Z"
   },
   {
    "duration": 9,
    "start_time": "2025-03-24T22:44:48.340Z"
   },
   {
    "duration": 53,
    "start_time": "2025-03-24T22:44:48.351Z"
   },
   {
    "duration": 19,
    "start_time": "2025-03-24T22:44:48.407Z"
   },
   {
    "duration": 65,
    "start_time": "2025-03-24T22:44:48.428Z"
   },
   {
    "duration": 4,
    "start_time": "2025-03-24T22:44:48.495Z"
   },
   {
    "duration": 90,
    "start_time": "2025-03-24T22:44:48.500Z"
   },
   {
    "duration": 20,
    "start_time": "2025-03-24T22:44:48.592Z"
   },
   {
    "duration": 75,
    "start_time": "2025-03-24T22:44:48.614Z"
   },
   {
    "duration": 418,
    "start_time": "2025-03-24T22:44:48.690Z"
   },
   {
    "duration": 31,
    "start_time": "2025-03-24T22:44:49.110Z"
   },
   {
    "duration": 130,
    "start_time": "2025-03-24T22:44:49.142Z"
   },
   {
    "duration": 5,
    "start_time": "2025-03-24T22:44:49.274Z"
   },
   {
    "duration": 462,
    "start_time": "2025-03-24T22:44:49.287Z"
   }
  ],
  "kernelspec": {
   "display_name": ".venv",
   "language": "python",
   "name": "python3"
  },
  "language_info": {
   "codemirror_mode": {
    "name": "ipython",
    "version": 3
   },
   "file_extension": ".py",
   "mimetype": "text/x-python",
   "name": "python",
   "nbconvert_exporter": "python",
   "pygments_lexer": "ipython3",
   "version": "3.13.5"
  },
  "toc": {
   "base_numbering": 1,
   "nav_menu": {},
   "number_sections": true,
   "sideBar": true,
   "skip_h1_title": true,
   "title_cell": "Table of Contents",
   "title_sidebar": "Contents",
   "toc_cell": false,
   "toc_position": {},
   "toc_section_display": true,
   "toc_window_display": false
  }
 },
 "nbformat": 4,
 "nbformat_minor": 2
}
