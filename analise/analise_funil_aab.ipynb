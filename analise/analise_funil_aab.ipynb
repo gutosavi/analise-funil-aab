{
 "cells": [
  {
   "cell_type": "markdown",
   "metadata": {},
   "source": [
    "**Análise de Funil e Impacto da Fonte (A/A/B)**\n",
    "\n",
    "Este projeto tem como objetivo principal analisar o comportamento dos usuários de nosso aplicativo de venda de produtos alimentícios. A análise será dividida em duas etapas cruciais: a avaliação do funil de vendas para identificar gargalos na jornada de compra e a verificação dos resultados de um teste A/A/B implementado para avaliar o impacto de uma mudança nas fontes do aplicativo na experiência e conversão do usuário."
   ]
  },
  {
   "cell_type": "code",
   "execution_count": 21,
   "metadata": {
    "scrolled": true
   },
   "outputs": [
    {
     "data": {
      "text/html": [
       "<div>\n",
       "<style scoped>\n",
       "    .dataframe tbody tr th:only-of-type {\n",
       "        vertical-align: middle;\n",
       "    }\n",
       "\n",
       "    .dataframe tbody tr th {\n",
       "        vertical-align: top;\n",
       "    }\n",
       "\n",
       "    .dataframe thead th {\n",
       "        text-align: right;\n",
       "    }\n",
       "</style>\n",
       "<table border=\"1\" class=\"dataframe\">\n",
       "  <thead>\n",
       "    <tr style=\"text-align: right;\">\n",
       "      <th></th>\n",
       "      <th>eventname</th>\n",
       "      <th>deviceidhash</th>\n",
       "      <th>eventtimestamp</th>\n",
       "      <th>expid</th>\n",
       "      <th>event_date</th>\n",
       "      <th>group_name</th>\n",
       "    </tr>\n",
       "  </thead>\n",
       "  <tbody>\n",
       "    <tr>\n",
       "      <th>0</th>\n",
       "      <td>Tutorial</td>\n",
       "      <td>3737462046622621720</td>\n",
       "      <td>2019-08-01 00:07:28</td>\n",
       "      <td>246</td>\n",
       "      <td>2019-08-01</td>\n",
       "      <td>A1_Controle</td>\n",
       "    </tr>\n",
       "    <tr>\n",
       "      <th>1</th>\n",
       "      <td>MainScreenAppear</td>\n",
       "      <td>3737462046622621720</td>\n",
       "      <td>2019-08-01 00:08:00</td>\n",
       "      <td>246</td>\n",
       "      <td>2019-08-01</td>\n",
       "      <td>A1_Controle</td>\n",
       "    </tr>\n",
       "    <tr>\n",
       "      <th>2</th>\n",
       "      <td>MainScreenAppear</td>\n",
       "      <td>3737462046622621720</td>\n",
       "      <td>2019-08-01 00:08:55</td>\n",
       "      <td>246</td>\n",
       "      <td>2019-08-01</td>\n",
       "      <td>A1_Controle</td>\n",
       "    </tr>\n",
       "    <tr>\n",
       "      <th>3</th>\n",
       "      <td>OffersScreenAppear</td>\n",
       "      <td>3737462046622621720</td>\n",
       "      <td>2019-08-01 00:08:58</td>\n",
       "      <td>246</td>\n",
       "      <td>2019-08-01</td>\n",
       "      <td>A1_Controle</td>\n",
       "    </tr>\n",
       "    <tr>\n",
       "      <th>4</th>\n",
       "      <td>MainScreenAppear</td>\n",
       "      <td>1433840883824088890</td>\n",
       "      <td>2019-08-01 00:08:59</td>\n",
       "      <td>247</td>\n",
       "      <td>2019-08-01</td>\n",
       "      <td>A2_Controle</td>\n",
       "    </tr>\n",
       "    <tr>\n",
       "      <th>...</th>\n",
       "      <td>...</td>\n",
       "      <td>...</td>\n",
       "      <td>...</td>\n",
       "      <td>...</td>\n",
       "      <td>...</td>\n",
       "      <td>...</td>\n",
       "    </tr>\n",
       "    <tr>\n",
       "      <th>241293</th>\n",
       "      <td>MainScreenAppear</td>\n",
       "      <td>4599628364049201812</td>\n",
       "      <td>2019-08-07 21:12:25</td>\n",
       "      <td>247</td>\n",
       "      <td>2019-08-07</td>\n",
       "      <td>A2_Controle</td>\n",
       "    </tr>\n",
       "    <tr>\n",
       "      <th>241294</th>\n",
       "      <td>MainScreenAppear</td>\n",
       "      <td>5849806612437486590</td>\n",
       "      <td>2019-08-07 21:13:59</td>\n",
       "      <td>246</td>\n",
       "      <td>2019-08-07</td>\n",
       "      <td>A1_Controle</td>\n",
       "    </tr>\n",
       "    <tr>\n",
       "      <th>241295</th>\n",
       "      <td>MainScreenAppear</td>\n",
       "      <td>5746969938801999050</td>\n",
       "      <td>2019-08-07 21:14:43</td>\n",
       "      <td>246</td>\n",
       "      <td>2019-08-07</td>\n",
       "      <td>A1_Controle</td>\n",
       "    </tr>\n",
       "    <tr>\n",
       "      <th>241296</th>\n",
       "      <td>MainScreenAppear</td>\n",
       "      <td>5746969938801999050</td>\n",
       "      <td>2019-08-07 21:14:58</td>\n",
       "      <td>246</td>\n",
       "      <td>2019-08-07</td>\n",
       "      <td>A1_Controle</td>\n",
       "    </tr>\n",
       "    <tr>\n",
       "      <th>241297</th>\n",
       "      <td>OffersScreenAppear</td>\n",
       "      <td>5746969938801999050</td>\n",
       "      <td>2019-08-07 21:15:17</td>\n",
       "      <td>246</td>\n",
       "      <td>2019-08-07</td>\n",
       "      <td>A1_Controle</td>\n",
       "    </tr>\n",
       "  </tbody>\n",
       "</table>\n",
       "<p>241298 rows × 6 columns</p>\n",
       "</div>"
      ],
      "text/plain": [
       "                 eventname         deviceidhash       eventtimestamp  expid  \\\n",
       "0                 Tutorial  3737462046622621720  2019-08-01 00:07:28    246   \n",
       "1         MainScreenAppear  3737462046622621720  2019-08-01 00:08:00    246   \n",
       "2         MainScreenAppear  3737462046622621720  2019-08-01 00:08:55    246   \n",
       "3       OffersScreenAppear  3737462046622621720  2019-08-01 00:08:58    246   \n",
       "4         MainScreenAppear  1433840883824088890  2019-08-01 00:08:59    247   \n",
       "...                    ...                  ...                  ...    ...   \n",
       "241293    MainScreenAppear  4599628364049201812  2019-08-07 21:12:25    247   \n",
       "241294    MainScreenAppear  5849806612437486590  2019-08-07 21:13:59    246   \n",
       "241295    MainScreenAppear  5746969938801999050  2019-08-07 21:14:43    246   \n",
       "241296    MainScreenAppear  5746969938801999050  2019-08-07 21:14:58    246   \n",
       "241297  OffersScreenAppear  5746969938801999050  2019-08-07 21:15:17    246   \n",
       "\n",
       "        event_date   group_name  \n",
       "0       2019-08-01  A1_Controle  \n",
       "1       2019-08-01  A1_Controle  \n",
       "2       2019-08-01  A1_Controle  \n",
       "3       2019-08-01  A1_Controle  \n",
       "4       2019-08-01  A2_Controle  \n",
       "...            ...          ...  \n",
       "241293  2019-08-07  A2_Controle  \n",
       "241294  2019-08-07  A1_Controle  \n",
       "241295  2019-08-07  A1_Controle  \n",
       "241296  2019-08-07  A1_Controle  \n",
       "241297  2019-08-07  A1_Controle  \n",
       "\n",
       "[241298 rows x 6 columns]"
      ]
     },
     "execution_count": 21,
     "metadata": {},
     "output_type": "execute_result"
    }
   ],
   "source": [
    "import pandas as pd\n",
    "import numpy as np\n",
    "import matplotlib.pyplot as plt\n",
    "import matplotlib.dates as mdates\n",
    "import plotly.graph_objects as go\n",
    "from statsmodels.stats.proportion import proportions_ztest\n",
    "\n",
    "\n",
    "df = pd.read_csv('../data/processed/logs_exp_us_processado.csv', sep=',')\n",
    "df"
   ]
  },
  {
   "cell_type": "code",
   "execution_count": 2,
   "metadata": {},
   "outputs": [
    {
     "name": "stdout",
     "output_type": "stream",
     "text": [
      "<class 'pandas.core.frame.DataFrame'>\n",
      "RangeIndex: 241298 entries, 0 to 241297\n",
      "Data columns (total 6 columns):\n",
      " #   Column          Non-Null Count   Dtype \n",
      "---  ------          --------------   ----- \n",
      " 0   eventname       241298 non-null  object\n",
      " 1   deviceidhash    241298 non-null  int64 \n",
      " 2   eventtimestamp  241298 non-null  object\n",
      " 3   expid           241298 non-null  int64 \n",
      " 4   event_date      241298 non-null  object\n",
      " 5   group_name      241298 non-null  object\n",
      "dtypes: int64(2), object(4)\n",
      "memory usage: 11.0+ MB\n"
     ]
    }
   ],
   "source": [
    "df.info()"
   ]
  },
  {
   "cell_type": "code",
   "execution_count": 3,
   "metadata": {},
   "outputs": [
    {
     "name": "stdout",
     "output_type": "stream",
     "text": [
      "eventname         0\n",
      "deviceidhash      0\n",
      "eventtimestamp    0\n",
      "expid             0\n",
      "event_date        0\n",
      "group_name        0\n",
      "dtype: int64\n",
      "\n",
      "eventname         object\n",
      "deviceidhash       int64\n",
      "eventtimestamp    object\n",
      "expid              int64\n",
      "event_date        object\n",
      "group_name        object\n",
      "dtype: object\n"
     ]
    }
   ],
   "source": [
    "# Limpando os dados - apenas rodei esta sintaxe para verificar se de fato o ETL funcionou\n",
    "\n",
    "print(df.isnull().sum())\n",
    "print()\n",
    "print(df.dtypes)\n"
   ]
  },
  {
   "cell_type": "code",
   "execution_count": 4,
   "metadata": {},
   "outputs": [
    {
     "name": "stdout",
     "output_type": "stream",
     "text": [
      "count                           241298\n",
      "mean     2019-08-04 11:31:00.746044160\n",
      "min                2019-08-01 00:07:28\n",
      "25%      2019-08-02 15:26:16.249999872\n",
      "50%                2019-08-04 12:27:26\n",
      "75%                2019-08-06 07:20:42\n",
      "max                2019-08-07 21:15:17\n",
      "Name: eventtimestamp, dtype: object\n"
     ]
    }
   ],
   "source": [
    "# Conversão para o tipo datetime\n",
    "\n",
    "df['eventtimestamp'] = pd.to_datetime(df['eventtimestamp'])\n",
    "df['event_date'] = pd.to_datetime(df['event_date'])\n",
    "print(df['eventtimestamp'].describe())\n",
    "\n"
   ]
  },
  {
   "cell_type": "code",
   "execution_count": 5,
   "metadata": {},
   "outputs": [
    {
     "name": "stdout",
     "output_type": "stream",
     "text": [
      "  event_date      eventtimestamp\n",
      "0 2019-08-01 2019-08-01 00:07:28\n",
      "1 2019-08-01 2019-08-01 00:08:00\n",
      "2 2019-08-01 2019-08-01 00:08:55\n",
      "3 2019-08-01 2019-08-01 00:08:58\n",
      "4 2019-08-01 2019-08-01 00:08:59\n"
     ]
    }
   ],
   "source": [
    "# Verificando se a coluna de dia do evento e hora do evento estão corretas\n",
    "\n",
    "print(df[['event_date', 'eventtimestamp']].head())\n"
   ]
  },
  {
   "cell_type": "code",
   "execution_count": 6,
   "metadata": {},
   "outputs": [
    {
     "name": "stdout",
     "output_type": "stream",
     "text": [
      "Total de eventos registrados: 241298\n"
     ]
    }
   ],
   "source": [
    "# Quantos eventos ficam nos registros?\n",
    "\n",
    "total_eventos = len(df)\n",
    "print(f\"Total de eventos registrados: {total_eventos}\")\n"
   ]
  },
  {
   "cell_type": "code",
   "execution_count": 7,
   "metadata": {},
   "outputs": [
    {
     "name": "stdout",
     "output_type": "stream",
     "text": [
      "Total de usuários únicos: 7534\n"
     ]
    }
   ],
   "source": [
    "# Quantos usuários ficam nos registros?\n",
    "\n",
    "usuarios_unicos = df['deviceidhash'].nunique()\n",
    "print(f\"Total de usuários únicos: {usuarios_unicos}\")\n"
   ]
  },
  {
   "cell_type": "code",
   "execution_count": 8,
   "metadata": {},
   "outputs": [
    {
     "name": "stdout",
     "output_type": "stream",
     "text": [
      "Média de eventos por usuário: 32.03\n"
     ]
    }
   ],
   "source": [
    "# Qual é o número médio de eventos por usuário?\n",
    "\n",
    "total_eventos = df.shape[0]\n",
    "usuarios_unicos = df['deviceidhash'].nunique()\n",
    "media_eventos_por_usuario = total_eventos / usuarios_unicos\n",
    "print(f\"Média de eventos por usuário: {media_eventos_por_usuario:.2f}\")\n"
   ]
  },
  {
   "cell_type": "code",
   "execution_count": 9,
   "metadata": {},
   "outputs": [
    {
     "name": "stdout",
     "output_type": "stream",
     "text": [
      "Período dos dados: de 2019-08-01 00:07:28 até 2019-08-07 21:15:17\n"
     ]
    }
   ],
   "source": [
    "# Período de tempo dos dados\n",
    "\n",
    "inicio = df['eventtimestamp'].min()\n",
    "fim = df['eventtimestamp'].max()\n",
    "print(f\"Período dos dados: de {inicio} até {fim}\")\n"
   ]
  },
  {
   "cell_type": "code",
   "execution_count": 10,
   "metadata": {},
   "outputs": [
    {
     "name": "stderr",
     "output_type": "stream",
     "text": [
      "C:\\Users\\Usuário\\AppData\\Local\\Temp\\ipykernel_14784\\348551399.py:3: FutureWarning: 'H' is deprecated and will be removed in a future version, please use 'h' instead.\n",
      "  df['event_hour'] = df['eventtimestamp'].dt.floor('H')\n"
     ]
    },
    {
     "data": {
      "image/png": "[encoded data removed]",
      "text/plain": [
       "<Figure size 1500x500 with 1 Axes>"
      ]
     },
     "metadata": {},
     "output_type": "display_data"
    }
   ],
   "source": [
    "# Visualização da distribuição de eventos ao longo do tempo\n",
    "\n",
    "df['event_hour'] = df['eventtimestamp'].dt.floor('H') \n",
    "\n",
    "eventos_por_hora = df['event_hour'].value_counts().sort_index()\n",
    "\n",
    "plt.figure(figsize=(15, 5))\n",
    "eventos_por_hora.plot(kind='bar')\n",
    "plt.title('Distribuição de eventos por data e hora')\n",
    "plt.xlabel('Data e hora')\n",
    "plt.ylabel('Número de eventos')\n",
    "plt.xticks(ticks=range(0, len(eventos_por_hora), 12), labels=eventos_por_hora.index[::12], rotation=45)\n",
    "plt.tight_layout()\n",
    "plt.show()"
   ]
  },
  {
   "cell_type": "code",
   "execution_count": 11,
   "metadata": {},
   "outputs": [
    {
     "data": {
      "image/png": "[encoded data removed]",
      "text/plain": [
       "<Figure size 1200x500 with 1 Axes>"
      ]
     },
     "metadata": {},
     "output_type": "display_data"
    },
    {
     "name": "stdout",
     "output_type": "stream",
     "text": [
      "Resumo de eventos por dia:\n",
      "count        7.000000\n",
      "mean     34471.142857\n",
      "std       1970.250697\n",
      "min      31144.000000\n",
      "25%      33192.000000\n",
      "50%      35606.000000\n",
      "75%      35967.500000\n",
      "max      36229.000000\n",
      "Name: count, dtype: float64\n"
     ]
    }
   ],
   "source": [
    "# Contagem de eventos por data\n",
    "\n",
    "eventos_por_dia = df['event_date'].value_counts().sort_index()\n",
    "\n",
    "plt.figure(figsize=(12, 5))\n",
    "eventos_por_dia.plot(kind='bar')\n",
    "plt.title('Eventos por dia')\n",
    "plt.xlabel('Data')\n",
    "plt.ylabel('Número de eventos')\n",
    "plt.xticks(rotation=45)\n",
    "plt.tight_layout()\n",
    "plt.show()\n",
    "\n",
    "print(\"Resumo de eventos por dia:\")\n",
    "print(eventos_por_dia.describe())\n"
   ]
  },
  {
   "cell_type": "code",
   "execution_count": 12,
   "metadata": {},
   "outputs": [
    {
     "data": {
      "text/plain": [
       "<Axes: title={'center': 'Usuários únicos por dia'}, xlabel='event_date'>"
      ]
     },
     "execution_count": 12,
     "metadata": {},
     "output_type": "execute_result"
    },
    {
     "data": {
      "image/png": "[encoded data removed]",
      "text/plain": [
       "<Figure size 1200x500 with 1 Axes>"
      ]
     },
     "metadata": {},
     "output_type": "display_data"
    }
   ],
   "source": [
    "# Contagem de usuários únicos por dia\n",
    "\n",
    "usuarios_por_dia = df.groupby('event_date')['deviceidhash'].nunique()\n",
    "usuarios_por_dia.plot(kind='bar', figsize=(12,5), title='Usuários únicos por dia')\n"
   ]
  },
  {
   "cell_type": "code",
   "execution_count": 13,
   "metadata": {},
   "outputs": [
    {
     "name": "stdout",
     "output_type": "stream",
     "text": [
      "event_date\n",
      "2019-08-01    36229\n",
      "2019-08-02    35606\n",
      "2019-08-03    33351\n",
      "2019-08-04    33033\n",
      "2019-08-05    36113\n",
      "2019-08-06    35822\n",
      "2019-08-07    31144\n",
      "Name: count, dtype: int64\n"
     ]
    }
   ],
   "source": [
    "# Contagem de eventos por dia\n",
    "\n",
    "eventos_por_dia = df['event_date'].value_counts().sort_index()\n",
    "print(eventos_por_dia)\n"
   ]
  },
  {
   "cell_type": "markdown",
   "metadata": {},
   "source": [
    "No ETL, eu já configurei para os dados serem filtrados a partir do dia 1 de agosto de 2019, pois com análise prévia foi possível verificar que os dados antes desta data eram bem escassos e portanto não são significativos a ponto de impactar esta análise.\n",
    "\n",
    "Os eventos perdidos antes desta data representam apenas 1.16% (2828) e os usuários perdidos representam apenas 0.26% (17). Resta muito seguro que a exclusão destes dados não impactará no resultado da análise.\n",
    "\n",
    "Defini que o período confiável para esta análise é a partir de 01/08/2019.\n",
    "\n",
    "Obs.: Sendo que estruturei o ETL para fazer essa filtragem de data antes de iniciar, não conseguirei trazer estes números nesse notebook.\n"
   ]
  },
  {
   "cell_type": "code",
   "execution_count": 14,
   "metadata": {},
   "outputs": [
    {
     "name": "stdout",
     "output_type": "stream",
     "text": [
      "group_name\n",
      "A1_Controle    2484\n",
      "A2_Controle    2513\n",
      "B_Teste        2537\n",
      "Name: deviceidhash, dtype: int64\n"
     ]
    }
   ],
   "source": [
    "# Usuários por grupo experimental\n",
    "\n",
    "usuarios_por_grupo = df.groupby('group_name')['deviceidhash'].nunique()\n",
    "print(usuarios_por_grupo)\n"
   ]
  },
  {
   "cell_type": "code",
   "execution_count": 15,
   "metadata": {},
   "outputs": [
    {
     "name": "stdout",
     "output_type": "stream",
     "text": [
      "eventname\n",
      "MainScreenAppear           117431\n",
      "OffersScreenAppear          46350\n",
      "CartScreenAppear            42365\n",
      "PaymentScreenSuccessful     34113\n",
      "Tutorial                     1039\n",
      "Name: count, dtype: int64\n"
     ]
    }
   ],
   "source": [
    "# Passo 4 \n",
    "# Eventos únicos por frequência\n",
    "\n",
    "eventos_frequencia = df['eventname'].value_counts()\n",
    "print(eventos_frequencia)\n"
   ]
  },
  {
   "cell_type": "code",
   "execution_count": 16,
   "metadata": {},
   "outputs": [
    {
     "data": {
      "text/html": [
       "<div>\n",
       "<style scoped>\n",
       "    .dataframe tbody tr th:only-of-type {\n",
       "        vertical-align: middle;\n",
       "    }\n",
       "\n",
       "    .dataframe tbody tr th {\n",
       "        vertical-align: top;\n",
       "    }\n",
       "\n",
       "    .dataframe thead th {\n",
       "        text-align: right;\n",
       "    }\n",
       "</style>\n",
       "<table border=\"1\" class=\"dataframe\">\n",
       "  <thead>\n",
       "    <tr style=\"text-align: right;\">\n",
       "      <th></th>\n",
       "      <th>usuarios_unicos</th>\n",
       "      <th>proporcao</th>\n",
       "      <th>proporcao_percentual</th>\n",
       "    </tr>\n",
       "    <tr>\n",
       "      <th>eventname</th>\n",
       "      <th></th>\n",
       "      <th></th>\n",
       "      <th></th>\n",
       "    </tr>\n",
       "  </thead>\n",
       "  <tbody>\n",
       "    <tr>\n",
       "      <th>MainScreenAppear</th>\n",
       "      <td>7419</td>\n",
       "      <td>0.984736</td>\n",
       "      <td>98.47</td>\n",
       "    </tr>\n",
       "    <tr>\n",
       "      <th>OffersScreenAppear</th>\n",
       "      <td>4593</td>\n",
       "      <td>0.609636</td>\n",
       "      <td>60.96</td>\n",
       "    </tr>\n",
       "    <tr>\n",
       "      <th>CartScreenAppear</th>\n",
       "      <td>3734</td>\n",
       "      <td>0.495620</td>\n",
       "      <td>49.56</td>\n",
       "    </tr>\n",
       "    <tr>\n",
       "      <th>PaymentScreenSuccessful</th>\n",
       "      <td>3539</td>\n",
       "      <td>0.469737</td>\n",
       "      <td>46.97</td>\n",
       "    </tr>\n",
       "    <tr>\n",
       "      <th>Tutorial</th>\n",
       "      <td>840</td>\n",
       "      <td>0.111495</td>\n",
       "      <td>11.15</td>\n",
       "    </tr>\n",
       "  </tbody>\n",
       "</table>\n",
       "</div>"
      ],
      "text/plain": [
       "                         usuarios_unicos  proporcao  proporcao_percentual\n",
       "eventname                                                                \n",
       "MainScreenAppear                    7419   0.984736                 98.47\n",
       "OffersScreenAppear                  4593   0.609636                 60.96\n",
       "CartScreenAppear                    3734   0.495620                 49.56\n",
       "PaymentScreenSuccessful             3539   0.469737                 46.97\n",
       "Tutorial                             840   0.111495                 11.15"
      ]
     },
     "execution_count": 16,
     "metadata": {},
     "output_type": "execute_result"
    }
   ],
   "source": [
    "# Calculando usuários únicos por evento\n",
    "\n",
    "total_usuarios = df['deviceidhash'].nunique()\n",
    "\n",
    "usuarios_por_evento = df.groupby('eventname')['deviceidhash'].nunique().sort_values(ascending=False)\n",
    "\n",
    "proporcao_usuarios = (usuarios_por_evento / total_usuarios).sort_values(ascending=False)\n",
    "\n",
    "funil_df = pd.DataFrame({\n",
    "    'usuarios_unicos': usuarios_por_evento,\n",
    "    'proporcao': proporcao_usuarios\n",
    "})\n",
    "\n",
    "funil_df['proporcao_percentual'] = (funil_df['proporcao'] * 100).round(2)\n",
    "\n",
    "funil_df\n"
   ]
  },
  {
   "cell_type": "markdown",
   "metadata": {},
   "source": [
    "O funil parece estar bem saudável! A taxa de conversão geral é alta (~47%).\n",
    "\n",
    "A maior queda está entre a MainScreen e a OffersScreen — talvez o app não esteja incentivando o clique ou mostrando bem os produtos.\n",
    "\n",
    "Entre quem entra no carrinho e quem compra, a desistência é bem pequena, indicando boa experiência de compra."
   ]
  },
  {
   "cell_type": "markdown",
   "metadata": {},
   "source": [
    "#### Ordem das ações do usuário:\n",
    "\n",
    "1° MainScreenAppear - O app é iniciado e o usuário vê a tela principal. Ponto de entrada lógico.\n",
    "\n",
    "2° OffersScreenAppear - O usuário navega pelas promoções ou produtos disponíveis.\n",
    "\n",
    "3° CartScreenAppear - Após escolher produtos, ele acessa o carrinho para revisar a compra.\n",
    "\n",
    "4°PaymentScreenSuccessful - O usuário finaliza a compra com sucesso.\n",
    "\n",
    "5° Tutorial - Geralmente aparece apenas para novos usuários ou na primeira vez que o app é aberto.\n",
    "\n"
   ]
  },
  {
   "cell_type": "code",
   "execution_count": 17,
   "metadata": {},
   "outputs": [
    {
     "name": "stdout",
     "output_type": "stream",
     "text": [
      "Main → Offers: 61.91%\n",
      "Offers → Cart: 81.30%\n",
      "Cart → Payment: 94.78%\n"
     ]
    }
   ],
   "source": [
    "# Proporção de usuários na etapa B para o número de usuários na etapa A e a proporção de usuários na etapa C para o número na etapa B)\n",
    "\n",
    "funil_df_main = funil_df.loc['MainScreenAppear', 'usuarios_unicos']\n",
    "funil_df_offers = funil_df.loc['OffersScreenAppear']['usuarios_unicos']\n",
    "funil_df_cart = funil_df.loc['CartScreenAppear']['usuarios_unicos']\n",
    "funil_df_payment = funil_df.loc['PaymentScreenSuccessful']['usuarios_unicos']\n",
    "\n",
    "conv_main_to_offers = funil_df_offers / funil_df_main\n",
    "conv_offers_to_cart = funil_df_cart / funil_df_offers\n",
    "conv_cart_to_payment = funil_df_payment / funil_df_cart\n",
    "\n",
    "print(f\"Main → Offers: {conv_main_to_offers:.2%}\")\n",
    "print(f\"Offers → Cart: {conv_offers_to_cart:.2%}\")\n",
    "print(f\"Cart → Payment: {conv_cart_to_payment:.2%}\")\n"
   ]
  },
  {
   "cell_type": "markdown",
   "metadata": {},
   "source": [
    "#### Em qual fase se perde mais usuário?\n",
    " \n",
    "A maior perda de usuários ocorre entre a tela principal (MainScreenAppear) e a tela de ofertas (OffersScreenAppear).\n",
    "Aproximadamente 38% dos usuários não avançam além da tela inicial, o que sugere que pode haver barreiras ou falta de incentivo para explorar os produtos."
   ]
  },
  {
   "cell_type": "code",
   "execution_count": 18,
   "metadata": {},
   "outputs": [
    {
     "name": "stdout",
     "output_type": "stream",
     "text": [
      "Usuários que completaram o funil: 3429\n",
      "Proporção em relação aos que iniciaram: 46.22%\n"
     ]
    }
   ],
   "source": [
    "# Qual é a parcela de usuários que faz o caminho inteiro, desde o primeiro evento até o pagamento?\n",
    "\n",
    "usuarios_main = set(df[df['eventname'] == 'MainScreenAppear']['deviceidhash'])\n",
    "usuarios_offers = set(df[df['eventname'] == 'OffersScreenAppear']['deviceidhash'])\n",
    "usuarios_cart = set(df[df['eventname'] == 'CartScreenAppear']['deviceidhash'])\n",
    "usuarios_payment = set(df[df['eventname'] == 'PaymentScreenSuccessful']['deviceidhash'])\n",
    "\n",
    "usuarios_funil_completo = usuarios_main & usuarios_offers & usuarios_cart & usuarios_payment\n",
    "\n",
    "num_completaram_funil = len(usuarios_funil_completo)\n",
    "\n",
    "total_usuarios = len(usuarios_main)\n",
    "\n",
    "proporcao_completaram = num_completaram_funil / total_usuarios\n",
    "\n",
    "print(f\"Usuários que completaram o funil: {num_completaram_funil}\")\n",
    "print(f\"Proporção em relação aos que iniciaram: {proporcao_completaram:.2%}\")\n"
   ]
  },
  {
   "cell_type": "code",
   "execution_count": null,
   "metadata": {},
   "outputs": [
    {
     "data": {
      "application/vnd.plotly.v1+json": {
       "config": {
        "plotlyServerURL": "https://plot.ly"
       },
       "data": [
        {
         "connector": {
          "line": {
           "color": "grey",
           "dash": "dot",
           "width": 2
          }
         },
         "marker": {
          "color": [
           "#4c78a8",
           "#f58518",
           "#e45756",
           "#72b7b2"
          ]
         },
         "textinfo": "value+percent initial",
         "type": "funnel",
         "x": [
          7419,
          4593,
          3734,
          3539
         ],
         "y": [
          "1. Tela Principal (MainScreenAppear)",
          "2. Tela de Ofertas (OffersScreenAppear)",
          "3. Carrinho (CartScreenAppear)",
          "4. Pagamento Bem-Sucedido (PaymentScreenSuccessful)"
         ]
        }
       ],
       "layout": {
        "font": {
         "size": 12
        },
        "template": {
         "data": {
          "bar": [
           {
            "error_x": {
             "color": "#2a3f5f"
            },
            "error_y": {
             "color": "#2a3f5f"
            },
            "marker": {
             "line": {
              "color": "#E5ECF6",
              "width": 0.5
             },
             "pattern": {
              "fillmode": "overlay",
              "size": 10,
              "solidity": 0.2
             }
            },
            "type": "bar"
           }
          ],
          "barpolar": [
           {
            "marker": {
             "line": {
              "color": "#E5ECF6",
              "width": 0.5
             },
             "pattern": {
              "fillmode": "overlay",
              "size": 10,
              "solidity": 0.2
             }
            },
            "type": "barpolar"
           }
          ],
          "carpet": [
           {
            "aaxis": {
             "endlinecolor": "#2a3f5f",
             "gridcolor": "white",
             "linecolor": "white",
             "minorgridcolor": "white",
             "startlinecolor": "#2a3f5f"
            },
            "baxis": {
             "endlinecolor": "#2a3f5f",
             "gridcolor": "white",
             "linecolor": "white",
             "minorgridcolor": "white",
             "startlinecolor": "#2a3f5f"
            },
            "type": "carpet"
           }
          ],
          "choropleth": [
           {
            "colorbar": {
             "outlinewidth": 0,
             "ticks": ""
            },
            "type": "choropleth"
           }
          ],
          "contour": [
           {
            "colorbar": {
             "outlinewidth": 0,
             "ticks": ""
            },
            "colorscale": [
             [
              0,
              "#0d0887"
             ],
             [
              0.1111111111111111,
              "#46039f"
             ],
             [
              0.2222222222222222,
              "#7201a8"
             ],
             [
              0.3333333333333333,
              "#9c179e"
             ],
             [
              0.4444444444444444,
              "#bd3786"
             ],
             [
              0.5555555555555556,
              "#d8576b"
             ],
             [
              0.6666666666666666,
              "#ed7953"
             ],
             [
              0.7777777777777778,
              "#fb9f3a"
             ],
             [
              0.8888888888888888,
              "#fdca26"
             ],
             [
              1,
              "#f0f921"
             ]
            ],
            "type": "contour"
           }
          ],
          "contourcarpet": [
           {
            "colorbar": {
             "outlinewidth": 0,
             "ticks": ""
            },
            "type": "contourcarpet"
           }
          ],
          "heatmap": [
           {
            "colorbar": {
             "outlinewidth": 0,
             "ticks": ""
            },
            "colorscale": [
             [
              0,
              "#0d0887"
             ],
             [
              0.1111111111111111,
              "#46039f"
             ],
             [
              0.2222222222222222,
              "#7201a8"
             ],
             [
              0.3333333333333333,
              "#9c179e"
             ],
             [
              0.4444444444444444,
              "#bd3786"
             ],
             [
              0.5555555555555556,
              "#d8576b"
             ],
             [
              0.6666666666666666,
              "#ed7953"
             ],
             [
              0.7777777777777778,
              "#fb9f3a"
             ],
             [
              0.8888888888888888,
              "#fdca26"
             ],
             [
              1,
              "#f0f921"
             ]
            ],
            "type": "heatmap"
           }
          ],
          "histogram": [
           {
            "marker": {
             "pattern": {
              "fillmode": "overlay",
              "size": 10,
              "solidity": 0.2
             }
            },
            "type": "histogram"
           }
          ],
          "histogram2d": [
           {
            "colorbar": {
             "outlinewidth": 0,
             "ticks": ""
            },
            "colorscale": [
             [
              0,
              "#0d0887"
             ],
             [
              0.1111111111111111,
              "#46039f"
             ],
             [
              0.2222222222222222,
              "#7201a8"
             ],
             [
              0.3333333333333333,
              "#9c179e"
             ],
             [
              0.4444444444444444,
              "#bd3786"
             ],
             [
              0.5555555555555556,
              "#d8576b"
             ],
             [
              0.6666666666666666,
              "#ed7953"
             ],
             [
              0.7777777777777778,
              "#fb9f3a"
             ],
             [
              0.8888888888888888,
              "#fdca26"
             ],
             [
              1,
              "#f0f921"
             ]
            ],
            "type": "histogram2d"
           }
          ],
          "histogram2dcontour": [
           {
            "colorbar": {
             "outlinewidth": 0,
             "ticks": ""
            },
            "colorscale": [
             [
              0,
              "#0d0887"
             ],
             [
              0.1111111111111111,
              "#46039f"
             ],
             [
              0.2222222222222222,
              "#7201a8"
             ],
             [
              0.3333333333333333,
              "#9c179e"
             ],
             [
              0.4444444444444444,
              "#bd3786"
             ],
             [
              0.5555555555555556,
              "#d8576b"
             ],
             [
              0.6666666666666666,
              "#ed7953"
             ],
             [
              0.7777777777777778,
              "#fb9f3a"
             ],
             [
              0.8888888888888888,
              "#fdca26"
             ],
             [
              1,
              "#f0f921"
             ]
            ],
            "type": "histogram2dcontour"
           }
          ],
          "mesh3d": [
           {
            "colorbar": {
             "outlinewidth": 0,
             "ticks": ""
            },
            "type": "mesh3d"
           }
          ],
          "parcoords": [
           {
            "line": {
             "colorbar": {
              "outlinewidth": 0,
              "ticks": ""
             }
            },
            "type": "parcoords"
           }
          ],
          "pie": [
           {
            "automargin": true,
            "type": "pie"
           }
          ],
          "scatter": [
           {
            "fillpattern": {
             "fillmode": "overlay",
             "size": 10,
             "solidity": 0.2
            },
            "type": "scatter"
           }
          ],
          "scatter3d": [
           {
            "line": {
             "colorbar": {
              "outlinewidth": 0,
              "ticks": ""
             }
            },
            "marker": {
             "colorbar": {
              "outlinewidth": 0,
              "ticks": ""
             }
            },
            "type": "scatter3d"
           }
          ],
          "scattercarpet": [
           {
            "marker": {
             "colorbar": {
              "outlinewidth": 0,
              "ticks": ""
             }
            },
            "type": "scattercarpet"
           }
          ],
          "scattergeo": [
           {
            "marker": {
             "colorbar": {
              "outlinewidth": 0,
              "ticks": ""
             }
            },
            "type": "scattergeo"
           }
          ],
          "scattergl": [
           {
            "marker": {
             "colorbar": {
              "outlinewidth": 0,
              "ticks": ""
             }
            },
            "type": "scattergl"
           }
          ],
          "scattermap": [
           {
            "marker": {
             "colorbar": {
              "outlinewidth": 0,
              "ticks": ""
             }
            },
            "type": "scattermap"
           }
          ],
          "scattermapbox": [
           {
            "marker": {
             "colorbar": {
              "outlinewidth": 0,
              "ticks": ""
             }
            },
            "type": "scattermapbox"
           }
          ],
          "scatterpolar": [
           {
            "marker": {
             "colorbar": {
              "outlinewidth": 0,
              "ticks": ""
             }
            },
            "type": "scatterpolar"
           }
          ],
          "scatterpolargl": [
           {
            "marker": {
             "colorbar": {
              "outlinewidth": 0,
              "ticks": ""
             }
            },
            "type": "scatterpolargl"
           }
          ],
          "scatterternary": [
           {
            "marker": {
             "colorbar": {
              "outlinewidth": 0,
              "ticks": ""
             }
            },
            "type": "scatterternary"
           }
          ],
          "surface": [
           {
            "colorbar": {
             "outlinewidth": 0,
             "ticks": ""
            },
            "colorscale": [
             [
              0,
              "#0d0887"
             ],
             [
              0.1111111111111111,
              "#46039f"
             ],
             [
              0.2222222222222222,
              "#7201a8"
             ],
             [
              0.3333333333333333,
              "#9c179e"
             ],
             [
              0.4444444444444444,
              "#bd3786"
             ],
             [
              0.5555555555555556,
              "#d8576b"
             ],
             [
              0.6666666666666666,
              "#ed7953"
             ],
             [
              0.7777777777777778,
              "#fb9f3a"
             ],
             [
              0.8888888888888888,
              "#fdca26"
             ],
             [
              1,
              "#f0f921"
             ]
            ],
            "type": "surface"
           }
          ],
          "table": [
           {
            "cells": {
             "fill": {
              "color": "#EBF0F8"
             },
             "line": {
              "color": "white"
             }
            },
            "header": {
             "fill": {
              "color": "#C8D4E3"
             },
             "line": {
              "color": "white"
             }
            },
            "type": "table"
           }
          ]
         },
         "layout": {
          "annotationdefaults": {
           "arrowcolor": "#2a3f5f",
           "arrowhead": 0,
           "arrowwidth": 1
          },
          "autotypenumbers": "strict",
          "coloraxis": {
           "colorbar": {
            "outlinewidth": 0,
            "ticks": ""
           }
          },
          "colorscale": {
           "diverging": [
            [
             0,
             "#8e0152"
            ],
            [
             0.1,
             "#c51b7d"
            ],
            [
             0.2,
             "#de77ae"
            ],
            [
             0.3,
             "#f1b6da"
            ],
            [
             0.4,
             "#fde0ef"
            ],
            [
             0.5,
             "#f7f7f7"
            ],
            [
             0.6,
             "#e6f5d0"
            ],
            [
             0.7,
             "#b8e186"
            ],
            [
             0.8,
             "#7fbc41"
            ],
            [
             0.9,
             "#4d9221"
            ],
            [
             1,
             "#276419"
            ]
           ],
           "sequential": [
            [
             0,
             "#0d0887"
            ],
            [
             0.1111111111111111,
             "#46039f"
            ],
            [
             0.2222222222222222,
             "#7201a8"
            ],
            [
             0.3333333333333333,
             "#9c179e"
            ],
            [
             0.4444444444444444,
             "#bd3786"
            ],
            [
             0.5555555555555556,
             "#d8576b"
            ],
            [
             0.6666666666666666,
             "#ed7953"
            ],
            [
             0.7777777777777778,
             "#fb9f3a"
            ],
            [
             0.8888888888888888,
             "#fdca26"
            ],
            [
             1,
             "#f0f921"
            ]
           ],
           "sequentialminus": [
            [
             0,
             "#0d0887"
            ],
            [
             0.1111111111111111,
             "#46039f"
            ],
            [
             0.2222222222222222,
             "#7201a8"
            ],
            [
             0.3333333333333333,
             "#9c179e"
            ],
            [
             0.4444444444444444,
             "#bd3786"
            ],
            [
             0.5555555555555556,
             "#d8576b"
            ],
            [
             0.6666666666666666,
             "#ed7953"
            ],
            [
             0.7777777777777778,
             "#fb9f3a"
            ],
            [
             0.8888888888888888,
             "#fdca26"
            ],
            [
             1,
             "#f0f921"
            ]
           ]
          },
          "colorway": [
           "#636efa",
           "#EF553B",
           "#00cc96",
           "#ab63fa",
           "#FFA15A",
           "#19d3f3",
           "#FF6692",
           "#B6E880",
           "#FF97FF",
           "#FECB52"
          ],
          "font": {
           "color": "#2a3f5f"
          },
          "geo": {
           "bgcolor": "white",
           "lakecolor": "white",
           "landcolor": "#E5ECF6",
           "showlakes": true,
           "showland": true,
           "subunitcolor": "white"
          },
          "hoverlabel": {
           "align": "left"
          },
          "hovermode": "closest",
          "mapbox": {
           "style": "light"
          },
          "paper_bgcolor": "white",
          "plot_bgcolor": "#E5ECF6",
          "polar": {
           "angularaxis": {
            "gridcolor": "white",
            "linecolor": "white",
            "ticks": ""
           },
           "bgcolor": "#E5ECF6",
           "radialaxis": {
            "gridcolor": "white",
            "linecolor": "white",
            "ticks": ""
           }
          },
          "scene": {
           "xaxis": {
            "backgroundcolor": "#E5ECF6",
            "gridcolor": "white",
            "gridwidth": 2,
            "linecolor": "white",
            "showbackground": true,
            "ticks": "",
            "zerolinecolor": "white"
           },
           "yaxis": {
            "backgroundcolor": "#E5ECF6",
            "gridcolor": "white",
            "gridwidth": 2,
            "linecolor": "white",
            "showbackground": true,
            "ticks": "",
            "zerolinecolor": "white"
           },
           "zaxis": {
            "backgroundcolor": "#E5ECF6",
            "gridcolor": "white",
            "gridwidth": 2,
            "linecolor": "white",
            "showbackground": true,
            "ticks": "",
            "zerolinecolor": "white"
           }
          },
          "shapedefaults": {
           "line": {
            "color": "#2a3f5f"
           }
          },
          "ternary": {
           "aaxis": {
            "gridcolor": "white",
            "linecolor": "white",
            "ticks": ""
           },
           "baxis": {
            "gridcolor": "white",
            "linecolor": "white",
            "ticks": ""
           },
           "bgcolor": "#E5ECF6",
           "caxis": {
            "gridcolor": "white",
            "linecolor": "white",
            "ticks": ""
           }
          },
          "title": {
           "x": 0.05
          },
          "xaxis": {
           "automargin": true,
           "gridcolor": "white",
           "linecolor": "white",
           "ticks": "",
           "title": {
            "standoff": 15
           },
           "zerolinecolor": "white",
           "zerolinewidth": 2
          },
          "yaxis": {
           "automargin": true,
           "gridcolor": "white",
           "linecolor": "white",
           "ticks": "",
           "title": {
            "standoff": 15
           },
           "zerolinecolor": "white",
           "zerolinewidth": 2
          }
         }
        },
        "title": {
         "text": "Funil de Conversão de Usuários (Base: Usuários da MainScreen)",
         "x": 0.5,
         "xanchor": "center",
         "y": 0.9,
         "yanchor": "top"
        }
       }
      }
     },
     "metadata": {},
     "output_type": "display_data"
    }
   ],
   "source": [
    "# Diagrama do funil\n",
    "\n",
    "num_main = len(usuarios_main)\n",
    "num_offers = len(usuarios_offers)\n",
    "num_cart = len(usuarios_cart)\n",
    "num_payment = len(usuarios_payment)\n",
    "\n",
    "labels = [\n",
    "    '1. Tela Principal (MainScreenAppear)',\n",
    "    '2. Tela de Ofertas (OffersScreenAppear)',\n",
    "    '3. Carrinho (CartScreenAppear)',\n",
    "    '4. Pagamento Bem-Sucedido (PaymentScreenSuccessful)'\n",
    "]\n",
    "values = [\n",
    "    num_main,\n",
    "    num_offers,\n",
    "    num_cart,\n",
    "    num_payment\n",
    "]\n",
    "\n",
    "fig = go.Figure(go.Funnel(\n",
    "    y = labels,        \n",
    "    x = values,        \n",
    "    textinfo = \"value+percent initial\",\n",
    "    marker = {\"color\": [\"#4c78a8\", \"#f58518\", \"#e45756\", \"#72b7b2\"]},\n",
    "    connector = {\"line\": {\"color\": \"grey\", \"dash\": \"dot\", \"width\": 2}}\n",
    "))\n",
    "\n",
    "fig.update_layout(\n",
    "    title={\n",
    "        'text': \"Funil de Conversão de Usuários (Base: Usuários da MainScreen)\",\n",
    "        'y':0.9,\n",
    "        'x':0.5,\n",
    "        'xanchor': 'center',\n",
    "        'yanchor': 'top'\n",
    "    },\n",
    "    font=dict(size=12) \n",
    ")\n",
    "\n",
    "fig.show()"
   ]
  },
  {
   "cell_type": "markdown",
   "metadata": {},
   "source": [
    "Quase metade dos usuários que abrem o app completam toda a jornada até a compra, o que é uma taxa de conversão excelente!"
   ]
  },
  {
   "cell_type": "code",
   "execution_count": 19,
   "metadata": {},
   "outputs": [
    {
     "name": "stdout",
     "output_type": "stream",
     "text": [
      "group_name\n",
      "A1_Controle    2484\n",
      "A2_Controle    2513\n",
      "B_Teste        2537\n",
      "Name: deviceidhash, dtype: int64\n"
     ]
    }
   ],
   "source": [
    "# Passo 5\n",
    "# Quantos usuários há em cada grupo?\n",
    "\n",
    "usuarios_por_grupo = df.groupby('group_name')['deviceidhash'].nunique().sort_index()\n",
    "print(usuarios_por_grupo)\n"
   ]
  },
  {
   "cell_type": "code",
   "execution_count": 22,
   "metadata": {},
   "outputs": [
    {
     "name": "stdout",
     "output_type": "stream",
     "text": [
      "Grupo A1_Controle(246) - Conversão: 0.4759 (1166/2450)\n",
      "Grupo A2_Controle(247) - Conversão: 0.4544 (1125/2476)\n"
     ]
    }
   ],
   "source": [
    "# Diferença estatisticamente significativa entre as amostragens 246 e 247.\n",
    "\n",
    "def funil_completo(df, grupo_id):\n",
    "    grupo = df[df['group_name'] == grupo_id]\n",
    "    main = set(grupo[grupo['eventname'] == 'MainScreenAppear']['deviceidhash'])\n",
    "    offers = set(grupo[grupo['eventname'] == 'OffersScreenAppear']['deviceidhash'])\n",
    "    cart = set(grupo[grupo['eventname'] == 'CartScreenAppear']['deviceidhash'])\n",
    "    payment = set(grupo[grupo['eventname'] == 'PaymentScreenSuccessful']['deviceidhash'])\n",
    "    return main & offers & cart & payment, main\n",
    "\n",
    "grupo_246_nome = 'A1_Controle' \n",
    "grupo_247_nome = 'A2_Controle'\n",
    "\n",
    "completos_246, base_246 = funil_completo(df, grupo_246_nome)\n",
    "completos_247, base_247 = funil_completo(df, grupo_247_nome)\n",
    "\n",
    "n_246 = len(base_246)\n",
    "n_247 = len(base_247)\n",
    "\n",
    "conv_246 = len(completos_246) / n_246\n",
    "conv_247 = len(completos_247) / n_247\n",
    "\n",
    "print(f\"Grupo A1_Controle(246) - Conversão: {conv_246:.4f} ({len(completos_246)}/{n_246})\")\n",
    "print(f\"Grupo A2_Controle(247) - Conversão: {conv_247:.4f} ({len(completos_247)}/{n_247})\")\n"
   ]
  },
  {
   "cell_type": "code",
   "execution_count": 23,
   "metadata": {},
   "outputs": [
    {
     "name": "stdout",
     "output_type": "stream",
     "text": [
      "Estatística z: 1.5166\n",
      "Valor p: 0.1294\n"
     ]
    }
   ],
   "source": [
    "# Teste de hipótese para diferença de proporções\n",
    "\n",
    "sucessos = [len(completos_246), len(completos_247)]\n",
    "\n",
    "nobs = [n_246, n_247]\n",
    "\n",
    "stat, pval = proportions_ztest(sucessos, nobs=nobs)\n",
    "\n",
    "print(f\"Estatística z: {stat:.4f}\")\n",
    "print(f\"Valor p: {pval:.4f}\")\n"
   ]
  },
  {
   "cell_type": "markdown",
   "metadata": {},
   "source": [
    "O valor p = 0.1294 é maior que 0.05, portanto não há diferença estatisticamente significativa entre os grupos 246 e 247."
   ]
  },
  {
   "cell_type": "code",
   "execution_count": 25,
   "metadata": {},
   "outputs": [
    {
     "name": "stderr",
     "output_type": "stream",
     "text": [
      "C:\\Users\\Usuário\\AppData\\Local\\Temp\\ipykernel_14784\\4250345947.py:14: UserWarning:\n",
      "\n",
      "Boolean Series key will be reindexed to match DataFrame index.\n",
      "\n",
      "C:\\Users\\Usuário\\AppData\\Local\\Temp\\ipykernel_14784\\4250345947.py:15: UserWarning:\n",
      "\n",
      "Boolean Series key will be reindexed to match DataFrame index.\n",
      "\n",
      "C:\\Users\\Usuário\\AppData\\Local\\Temp\\ipykernel_14784\\4250345947.py:36: UserWarning:\n",
      "\n",
      "Boolean Series key will be reindexed to match DataFrame index.\n",
      "\n",
      "C:\\Users\\Usuário\\AppData\\Local\\Temp\\ipykernel_14784\\4250345947.py:37: UserWarning:\n",
      "\n",
      "Boolean Series key will be reindexed to match DataFrame index.\n",
      "\n",
      "d:\\TripleTen\\analise_funil_vendas\\.venv\\Lib\\site-packages\\statsmodels\\stats\\weightstats.py:792: RuntimeWarning:\n",
      "\n",
      "invalid value encountered in scalar divide\n",
      "\n",
      "C:\\Users\\Usuário\\AppData\\Local\\Temp\\ipykernel_14784\\4250345947.py:36: UserWarning:\n",
      "\n",
      "Boolean Series key will be reindexed to match DataFrame index.\n",
      "\n",
      "C:\\Users\\Usuário\\AppData\\Local\\Temp\\ipykernel_14784\\4250345947.py:37: UserWarning:\n",
      "\n",
      "Boolean Series key will be reindexed to match DataFrame index.\n",
      "\n",
      "C:\\Users\\Usuário\\AppData\\Local\\Temp\\ipykernel_14784\\4250345947.py:36: UserWarning:\n",
      "\n",
      "Boolean Series key will be reindexed to match DataFrame index.\n",
      "\n",
      "C:\\Users\\Usuário\\AppData\\Local\\Temp\\ipykernel_14784\\4250345947.py:37: UserWarning:\n",
      "\n",
      "Boolean Series key will be reindexed to match DataFrame index.\n",
      "\n",
      "C:\\Users\\Usuário\\AppData\\Local\\Temp\\ipykernel_14784\\4250345947.py:36: UserWarning:\n",
      "\n",
      "Boolean Series key will be reindexed to match DataFrame index.\n",
      "\n",
      "C:\\Users\\Usuário\\AppData\\Local\\Temp\\ipykernel_14784\\4250345947.py:37: UserWarning:\n",
      "\n",
      "Boolean Series key will be reindexed to match DataFrame index.\n",
      "\n"
     ]
    },
    {
     "name": "stdout",
     "output_type": "stream",
     "text": [
      "Teste A/B (246 vs 248) com Correção de Bonferroni\n",
      "Alfa ajustado (Bonferroni): 0.0125\n",
      "\n",
      "Base de Usuários (Nobs) - A1_Controle: 2450 | B_Teste: 2493\n",
      "\n",
      "--- Evento: MainScreenAppear ---\n",
      "   Conversão (A): 1.0000 | Conversão (B): 1.0000\n",
      "   Valor p: nan\n",
      "   Decisão: NÃO REJEITAR H0\n",
      "--- Evento: OffersScreenAppear ---\n",
      "   Conversão (A): 0.6159 | Conversão (B): 0.5973\n",
      "   Valor p: 0.1797\n",
      "   Decisão: NÃO REJEITAR H0\n",
      "--- Evento: CartScreenAppear ---\n",
      "   Conversão (A): 0.5045 | Conversão (B): 0.4781\n",
      "   Valor p: 0.0639\n",
      "   Decisão: NÃO REJEITAR H0\n",
      "--- Evento: PaymentScreenSuccessful ---\n",
      "   Conversão (A): 0.4776 | Conversão (B): 0.4585\n",
      "   Valor p: 0.1792\n",
      "   Decisão: NÃO REJEITAR H0\n",
      "\n",
      "CONCLUSÃO: Nenhum dos testes apresentou valor-p abaixo do limiar ajustado. Não há evidência de que a alteração da fonte tenha impactado a conversão.\n"
     ]
    }
   ],
   "source": [
    "# Aplicação da correção de Bonferroni\n",
    "\n",
    "GRUPO_A = 'A1_Controle'  # Nosso Grupo 246\n",
    "GRUPO_B = 'B_Teste'      # Nosso Grupo 248 (Com alteração de fonte)\n",
    "\n",
    "EVENTOS_FUNIL = [\n",
    "    'MainScreenAppear',\n",
    "    'OffersScreenAppear',\n",
    "    'CartScreenAppear',\n",
    "    'PaymentScreenSuccessful'\n",
    "]\n",
    "\n",
    "\n",
    "base_users_A = set(df[df['group_name'] == GRUPO_A][df['eventname'] == EVENTOS_FUNIL[0]]['deviceidhash'])\n",
    "base_users_B = set(df[df['group_name'] == GRUPO_B][df['eventname'] == EVENTOS_FUNIL[0]]['deviceidhash'])\n",
    "\n",
    "nobs_A = len(base_users_A)\n",
    "nobs_B = len(base_users_B)\n",
    "\n",
    "sucessos_A = []\n",
    "sucessos_B = []\n",
    "p_values = []\n",
    "resultados_bonferroni = []\n",
    "\n",
    "\n",
    "alpha = 0.05\n",
    "\n",
    "k = len(EVENTOS_FUNIL) \n",
    "alpha_bonferroni = alpha / k # 0.05 / 4 = 0.0125\n",
    "\n",
    "print(f\"Teste A/B (246 vs 248) com Correção de Bonferroni\")\n",
    "print(f\"Alfa ajustado (Bonferroni): {alpha_bonferroni:.4f}\\n\")\n",
    "print(f\"Base de Usuários (Nobs) - {GRUPO_A}: {nobs_A} | {GRUPO_B}: {nobs_B}\\n\")\n",
    "\n",
    "for event in EVENTOS_FUNIL:\n",
    "    users_event_A = set(df[df['group_name'] == GRUPO_A][df['eventname'] == event]['deviceidhash'])\n",
    "    users_event_B = set(df[df['group_name'] == GRUPO_B][df['eventname'] == event]['deviceidhash'])\n",
    "    \n",
    "    s_A = len(users_event_A & base_users_A)\n",
    "    s_B = len(users_event_B & base_users_B)\n",
    "    \n",
    "    sucessos = [s_A, s_B]\n",
    "    nobs = [nobs_A, nobs_B]\n",
    "    \n",
    "    stat, pval = proportions_ztest(sucessos, nobs=nobs)\n",
    "    \n",
    "    if pval < alpha_bonferroni:\n",
    "        resultado = \"REJEITAR H0 (Diferença Significativa)\"\n",
    "    else:\n",
    "        resultado = \"NÃO REJEITAR H0\"\n",
    "\n",
    "    p_values.append(pval)\n",
    "    \n",
    "    print(f\"--- Evento: {event} ---\")\n",
    "    print(f\"   Conversão (A): {s_A/nobs_A:.4f} | Conversão (B): {s_B/nobs_B:.4f}\")\n",
    "    print(f\"   Valor p: {pval:.4f}\")\n",
    "    print(f\"   Decisão: {resultado}\")\n",
    "\n",
    "if (np.array(p_values) < alpha_bonferroni).any():\n",
    "    print(\"\\nCONCLUSÃO: Há evidência de impacto estatisticamente significativo em pelo menos um evento.\")\n",
    "else:\n",
    "    print(\"\\nCONCLUSÃO: Nenhum dos testes apresentou valor-p abaixo do limiar ajustado. Não há evidência de que a alteração da fonte tenha impactado a conversão.\")"
   ]
  },
  {
   "cell_type": "code",
   "execution_count": 24,
   "metadata": {},
   "outputs": [
    {
     "name": "stdout",
     "output_type": "stream",
     "text": [
      "Evento mais popular: MainScreenAppear (117431 ocorrências)\n"
     ]
    }
   ],
   "source": [
    "# Evento mais popular\n",
    "\n",
    "evento_mais_popular = df['eventname'].value_counts().idxmax()\n",
    "quantidade = df['eventname'].value_counts().max()\n",
    "print(f\"Evento mais popular: {evento_mais_popular} ({quantidade} ocorrências)\")\n"
   ]
  },
  {
   "cell_type": "code",
   "execution_count": 28,
   "metadata": {},
   "outputs": [
    {
     "name": "stdout",
     "output_type": "stream",
     "text": [
      "                    evento  grupo_246_%  grupo_247_%  p_valor  \\\n",
      "4  PaymentScreenSuccessful        48.31        46.08   0.1146   \n",
      "3         CartScreenAppear        50.97        49.26   0.2288   \n",
      "2       OffersScreenAppear        62.08        60.49   0.2481   \n",
      "1         MainScreenAppear        98.63        98.53   0.7571   \n",
      "0                 Tutorial        11.19        11.26   0.9377   \n",
      "\n",
      "   diferenca_significativa  \n",
      "4                    False  \n",
      "3                    False  \n",
      "2                    False  \n",
      "1                    False  \n",
      "0                    False  \n"
     ]
    }
   ],
   "source": [
    "# Número de usuarios que realizam a ação\n",
    "\n",
    "def comparar_evento(df, eventname, grupo_a=246, grupo_b=247):\n",
    "\n",
    "    grupo_a_df = df[(df['expid'] == grupo_a)]\n",
    "    grupo_b_df = df[(df['expid'] == grupo_b)]\n",
    "    \n",
    "    usuarios_a = grupo_a_df[grupo_a_df['eventname'] == eventname]['deviceidhash'].nunique()\n",
    "    usuarios_b = grupo_b_df[grupo_b_df['eventname'] == eventname]['deviceidhash'].nunique()\n",
    "    \n",
    "    total_a = grupo_a_df['deviceidhash'].nunique()\n",
    "    total_b = grupo_b_df['deviceidhash'].nunique()\n",
    "    \n",
    "    proporcao_a = usuarios_a / total_a\n",
    "    proporcao_b = usuarios_b / total_b\n",
    "    \n",
    "    stat, pval = proportions_ztest([usuarios_a, usuarios_b], [total_a, total_b])\n",
    "\n",
    "    resultado = {\n",
    "        'evento': eventname,\n",
    "        'grupo_246_%': round(proporcao_a * 100, 2),\n",
    "        'grupo_247_%': round(proporcao_b * 100, 2),\n",
    "        'p_valor': round(pval, 4),\n",
    "        'diferenca_significativa': pval < 0.05\n",
    "    }\n",
    "    \n",
    "    return resultado\n",
    "\n",
    "eventos = df['eventname'].unique()\n",
    "\n",
    "resultados = [comparar_evento(df, evento) for evento in eventos]\n",
    "\n",
    "resultados_df = pd.DataFrame(resultados)\n",
    "\n",
    "resultados_df.sort_values('p_valor', inplace=True)\n",
    "print(resultados_df.sort_values('p_valor'))"
   ]
  },
  {
   "cell_type": "markdown",
   "metadata": {},
   "source": [
    "Não houve diferença estatisticamente significativa em nenhum dos eventos entre os grupos de controle.\n",
    "Isso confirma que a divisão dos grupos foi feita corretamente e que o experimento está equilibrado"
   ]
  },
  {
   "cell_type": "code",
   "execution_count": 29,
   "metadata": {},
   "outputs": [],
   "source": [
    "# Comparando os resultados com os de cada um dos grupos e criando uma função mais genérica\n",
    "\n",
    "def comparar_evento_grupos(df, eventname, grupo_a, grupo_b):\n",
    "    grupo_a_df = df[df['expid'] == grupo_a]\n",
    "    grupo_b_df = df[df['expid'] == grupo_b]\n",
    "    \n",
    "    usuarios_a = grupo_a_df[grupo_a_df['eventname'] == eventname]['deviceidhash'].nunique()\n",
    "    usuarios_a = grupo_a_df[grupo_a_df['eventname'] == eventname]['deviceidhash'].nunique()\n",
    "    usuarios_b = grupo_b_df[grupo_b_df['eventname'] == eventname]['deviceidhash'].nunique()\n",
    "    \n",
    "    total_a = grupo_a_df['deviceidhash'].nunique()\n",
    "    total_b = grupo_b_df['deviceidhash'].nunique()\n",
    "    \n",
    "    proporcao_a = usuarios_a / total_a\n",
    "    proporcao_b = usuarios_b / total_b\n",
    "\n",
    "    try:\n",
    "        stat, pval = proportions_ztest([usuarios_a, usuarios_b], [total_a, total_b])\n",
    "    except:\n",
    "        pval = None\n",
    "\n",
    "    return {\n",
    "        'evento': eventname,\n",
    "        'grupo_a': grupo_a,\n",
    "        'grupo_b': grupo_b,\n",
    "        'grupo_a_%': round(proporcao_a * 100, 2),\n",
    "        'grupo_b_%': round(proporcao_b * 100, 2),\n",
    "        'p_valor': round(pval, 4) if pval is not None else 'erro',\n",
    "        'diferenca_significativa': pval is not None and pval < 0.05\n",
    "    }\n"
   ]
  },
  {
   "cell_type": "code",
   "execution_count": 30,
   "metadata": {},
   "outputs": [
    {
     "name": "stdout",
     "output_type": "stream",
     "text": [
      "                     evento   grupo_a  grupo_b  grupo_a_%  grupo_b_%  p_valor  \\\n",
      "3          CartScreenAppear       246      248      50.97      48.48   0.0784   \n",
      "13         CartScreenAppear  controle      248      50.11      48.48   0.1818   \n",
      "8          CartScreenAppear       247      248      49.26      48.48   0.5786   \n",
      "11         MainScreenAppear  controle      248      98.58      98.27   0.2942   \n",
      "1          MainScreenAppear       246      248      98.63      98.27   0.2950   \n",
      "6          MainScreenAppear       247      248      98.53      98.27   0.4587   \n",
      "2        OffersScreenAppear       246      248      62.08      60.35   0.2084   \n",
      "12       OffersScreenAppear  controle      248      61.28      60.35   0.4343   \n",
      "7        OffersScreenAppear       247      248      60.49      60.35   0.9198   \n",
      "4   PaymentScreenSuccessful       246      248      48.31      46.55   0.2123   \n",
      "14  PaymentScreenSuccessful  controle      248      47.19      46.55   0.6004   \n",
      "9   PaymentScreenSuccessful       247      248      46.08      46.55   0.7373   \n",
      "10                 Tutorial  controle      248      11.23      11.00   0.7649   \n",
      "5                  Tutorial       247      248      11.26      11.00   0.7653   \n",
      "0                  Tutorial       246      248      11.19      11.00   0.8264   \n",
      "\n",
      "    diferenca_significativa  \n",
      "3                     False  \n",
      "13                    False  \n",
      "8                     False  \n",
      "11                    False  \n",
      "1                     False  \n",
      "6                     False  \n",
      "2                     False  \n",
      "12                    False  \n",
      "7                     False  \n",
      "4                     False  \n",
      "14                    False  \n",
      "9                     False  \n",
      "10                    False  \n",
      "5                     False  \n",
      "0                     False  \n"
     ]
    }
   ],
   "source": [
    "# Comparando os grupos 246 e 248, 247 e 248, e o grupo combinado (246+247) contra 248\n",
    "\n",
    "eventos = df['eventname'].unique()\n",
    "\n",
    "resultados_vs_246 = [comparar_evento_grupos(df, e, 246, 248) for e in eventos]\n",
    "\n",
    "resultados_vs_247 = [comparar_evento_grupos(df, e, 247, 248) for e in eventos]\n",
    "\n",
    "controle = df[df['expid'].isin([246, 247])].copy()\n",
    "controle['expid'] = 'controle'\n",
    "\n",
    "df_comparado = pd.concat([controle, df[df['expid'] == 248]])\n",
    "\n",
    "resultados_vs_combinado = [comparar_evento_grupos(df_comparado, e, 'controle', 248) for e in eventos]\n",
    "\n",
    "todos_resultados = pd.DataFrame(resultados_vs_246 + resultados_vs_247 + resultados_vs_combinado)\n",
    "\n",
    "todos_resultados = todos_resultados.sort_values(by=['evento', 'p_valor'])\n",
    "\n",
    "print(todos_resultados)\n"
   ]
  },
  {
   "cell_type": "markdown",
   "metadata": {},
   "source": [
    "Os resultados indicam que a alteração da fonte não teve impacto estatisticamente significativo no comportamento dos usuários, em nenhuma etapa do funil analisado.\n",
    "\n",
    "Isso se confirma tanto ao comparar o grupo de teste com cada controle individualmente (246 e 247), quanto com o grupo combinado.\n",
    "\n",
    "Portanto, a nova fonte pode ser considerada segura para adoção, já que não prejudicou a conversão ou o uso do app."
   ]
  },
  {
   "cell_type": "markdown",
   "metadata": {},
   "source": [
    "Foi utilizado um nível de significância padrão de 5% (α = 0.05). Foram realizados 15 testes de hipóteses estatísticas, o que levanta a possibilidade de falsos positivos por múltiplas comparações.\n",
    "\n",
    "Aplicamos a correção de Bonferroni, ajustando o nível de significância para 0,0033. Nenhum dos testes apresentou valor-p abaixo desse limiar. Portanto, não há evidência estatística de que a alteração da fonte tenha impactado o comportamento dos usuários."
   ]
  }
 ],
 "metadata": {
  "ExecuteTimeLog": [
   {
    "duration": 1192,
    "start_time": "2025-03-24T16:46:30.987Z"
   },
   {
    "duration": 224,
    "start_time": "2025-03-24T16:46:45.374Z"
   },
   {
    "duration": 200,
    "start_time": "2025-03-24T16:48:50.188Z"
   },
   {
    "duration": 197,
    "start_time": "2025-03-24T16:49:01.051Z"
   },
   {
    "duration": 182,
    "start_time": "2025-03-24T16:49:11.768Z"
   },
   {
    "duration": 189,
    "start_time": "2025-03-24T16:49:25.425Z"
   },
   {
    "duration": 202,
    "start_time": "2025-03-24T16:49:38.361Z"
   },
   {
    "duration": 14,
    "start_time": "2025-03-24T16:49:54.986Z"
   },
   {
    "duration": 41,
    "start_time": "2025-03-24T16:50:41.700Z"
   },
   {
    "duration": 379,
    "start_time": "2025-03-24T16:51:48.585Z"
   },
   {
    "duration": 3,
    "start_time": "2025-03-24T16:52:46.684Z"
   },
   {
    "duration": 28,
    "start_time": "2025-03-24T16:53:27.157Z"
   },
   {
    "duration": 101,
    "start_time": "2025-03-24T16:53:57.310Z"
   },
   {
    "duration": 19,
    "start_time": "2025-03-24T16:54:02.819Z"
   },
   {
    "duration": 3,
    "start_time": "2025-03-24T16:54:05.235Z"
   },
   {
    "duration": 3,
    "start_time": "2025-03-24T16:54:08.657Z"
   },
   {
    "duration": 11,
    "start_time": "2025-03-24T16:56:05.022Z"
   },
   {
    "duration": 11,
    "start_time": "2025-03-24T16:57:11.895Z"
   },
   {
    "duration": 8,
    "start_time": "2025-03-24T16:57:38.075Z"
   },
   {
    "duration": 30,
    "start_time": "2025-03-24T16:58:45.921Z"
   },
   {
    "duration": 101,
    "start_time": "2025-03-24T16:59:10.276Z"
   },
   {
    "duration": 16,
    "start_time": "2025-03-24T16:59:16.547Z"
   },
   {
    "duration": 5,
    "start_time": "2025-03-24T16:59:18.549Z"
   },
   {
    "duration": 16,
    "start_time": "2025-03-24T16:59:20.429Z"
   },
   {
    "duration": 19,
    "start_time": "2025-03-24T16:59:31.422Z"
   },
   {
    "duration": 54,
    "start_time": "2025-03-24T17:01:00.509Z"
   },
   {
    "duration": 3,
    "start_time": "2025-03-24T17:03:45.596Z"
   },
   {
    "duration": 6,
    "start_time": "2025-03-24T17:04:43.000Z"
   },
   {
    "duration": 7,
    "start_time": "2025-03-24T17:05:33.066Z"
   },
   {
    "duration": 5,
    "start_time": "2025-03-24T17:07:38.330Z"
   },
   {
    "duration": 4418,
    "start_time": "2025-03-24T17:09:09.607Z"
   },
   {
    "duration": 324,
    "start_time": "2025-03-24T17:11:04.964Z"
   },
   {
    "duration": 1017,
    "start_time": "2025-03-24T17:11:20.951Z"
   },
   {
    "duration": 974,
    "start_time": "2025-03-24T17:11:47.382Z"
   },
   {
    "duration": 296,
    "start_time": "2025-03-24T17:14:23.272Z"
   },
   {
    "duration": 193,
    "start_time": "2025-03-24T17:15:49.066Z"
   },
   {
    "duration": 24,
    "start_time": "2025-03-24T17:16:02.400Z"
   },
   {
    "duration": 20,
    "start_time": "2025-03-24T17:17:46.839Z"
   },
   {
    "duration": 20,
    "start_time": "2025-03-24T17:19:07.700Z"
   },
   {
    "duration": 5,
    "start_time": "2025-03-24T17:19:14.429Z"
   },
   {
    "duration": 100,
    "start_time": "2025-03-24T17:19:47.890Z"
   },
   {
    "duration": 15,
    "start_time": "2025-03-24T17:19:51.955Z"
   },
   {
    "duration": 4,
    "start_time": "2025-03-24T17:19:53.215Z"
   },
   {
    "duration": 13,
    "start_time": "2025-03-24T17:19:54.183Z"
   },
   {
    "duration": 18,
    "start_time": "2025-03-24T17:19:55.963Z"
   },
   {
    "duration": 50,
    "start_time": "2025-03-24T17:19:57.358Z"
   },
   {
    "duration": 3,
    "start_time": "2025-03-24T17:19:58.656Z"
   },
   {
    "duration": 7,
    "start_time": "2025-03-24T17:19:59.991Z"
   },
   {
    "duration": 7,
    "start_time": "2025-03-24T17:20:01.264Z"
   },
   {
    "duration": 5,
    "start_time": "2025-03-24T17:20:03.754Z"
   },
   {
    "duration": 975,
    "start_time": "2025-03-24T17:20:07.406Z"
   },
   {
    "duration": 322,
    "start_time": "2025-03-24T17:20:14.362Z"
   },
   {
    "duration": 184,
    "start_time": "2025-03-24T17:20:19.340Z"
   },
   {
    "duration": 20,
    "start_time": "2025-03-24T17:20:26.341Z"
   },
   {
    "duration": 20,
    "start_time": "2025-03-24T17:20:32.364Z"
   },
   {
    "duration": 4,
    "start_time": "2025-03-24T17:20:33.297Z"
   },
   {
    "duration": 25,
    "start_time": "2025-03-24T17:21:22.036Z"
   },
   {
    "duration": 8,
    "start_time": "2025-03-24T17:22:46.643Z"
   },
   {
    "duration": 5,
    "start_time": "2025-03-24T17:23:46.232Z"
   },
   {
    "duration": 6,
    "start_time": "2025-03-24T17:23:49.604Z"
   },
   {
    "duration": 23,
    "start_time": "2025-03-24T17:25:23.496Z"
   },
   {
    "duration": 19,
    "start_time": "2025-03-24T17:27:58.398Z"
   },
   {
    "duration": 51,
    "start_time": "2025-03-24T17:29:18.196Z"
   },
   {
    "duration": 4,
    "start_time": "2025-03-24T17:35:46.188Z"
   },
   {
    "duration": 4,
    "start_time": "2025-03-24T17:37:51.401Z"
   },
   {
    "duration": 81,
    "start_time": "2025-03-24T17:41:03.932Z"
   },
   {
    "duration": 22,
    "start_time": "2025-03-24T17:43:38.893Z"
   },
   {
    "duration": 69,
    "start_time": "2025-03-24T17:45:39.848Z"
   },
   {
    "duration": 374,
    "start_time": "2025-03-24T17:45:51.485Z"
   },
   {
    "duration": 7,
    "start_time": "2025-03-24T17:46:53.286Z"
   },
   {
    "duration": 32,
    "start_time": "2025-03-24T17:49:43.791Z"
   },
   {
    "duration": 4,
    "start_time": "2025-03-24T17:51:33.179Z"
   },
   {
    "duration": 5,
    "start_time": "2025-03-24T17:51:45.908Z"
   },
   {
    "duration": 158,
    "start_time": "2025-03-24T17:51:50.215Z"
   },
   {
    "duration": 172,
    "start_time": "2025-03-24T17:52:24.024Z"
   },
   {
    "duration": 146,
    "start_time": "2025-03-24T17:54:12.019Z"
   },
   {
    "duration": 5,
    "start_time": "2025-03-24T18:02:21.386Z"
   },
   {
    "duration": 519,
    "start_time": "2025-03-24T18:02:30.122Z"
   },
   {
    "duration": 465,
    "start_time": "2025-03-24T22:44:45.938Z"
   },
   {
    "duration": 21,
    "start_time": "2025-03-24T22:44:46.405Z"
   },
   {
    "duration": 3,
    "start_time": "2025-03-24T22:44:46.428Z"
   },
   {
    "duration": 15,
    "start_time": "2025-03-24T22:44:46.434Z"
   },
   {
    "duration": 48,
    "start_time": "2025-03-24T22:44:46.451Z"
   },
   {
    "duration": 55,
    "start_time": "2025-03-24T22:44:46.501Z"
   },
   {
    "duration": 3,
    "start_time": "2025-03-24T22:44:46.558Z"
   },
   {
    "duration": 28,
    "start_time": "2025-03-24T22:44:46.563Z"
   },
   {
    "duration": 8,
    "start_time": "2025-03-24T22:44:46.594Z"
   },
   {
    "duration": 5,
    "start_time": "2025-03-24T22:44:46.604Z"
   },
   {
    "duration": 1163,
    "start_time": "2025-03-24T22:44:46.611Z"
   },
   {
    "duration": 286,
    "start_time": "2025-03-24T22:44:47.775Z"
   },
   {
    "duration": 219,
    "start_time": "2025-03-24T22:44:48.063Z"
   },
   {
    "duration": 19,
    "start_time": "2025-03-24T22:44:48.288Z"
   },
   {
    "duration": 22,
    "start_time": "2025-03-24T22:44:48.309Z"
   },
   {
    "duration": 6,
    "start_time": "2025-03-24T22:44:48.333Z"
   },
   {
    "duration": 9,
    "start_time": "2025-03-24T22:44:48.340Z"
   },
   {
    "duration": 53,
    "start_time": "2025-03-24T22:44:48.351Z"
   },
   {
    "duration": 19,
    "start_time": "2025-03-24T22:44:48.407Z"
   },
   {
    "duration": 65,
    "start_time": "2025-03-24T22:44:48.428Z"
   },
   {
    "duration": 4,
    "start_time": "2025-03-24T22:44:48.495Z"
   },
   {
    "duration": 90,
    "start_time": "2025-03-24T22:44:48.500Z"
   },
   {
    "duration": 20,
    "start_time": "2025-03-24T22:44:48.592Z"
   },
   {
    "duration": 75,
    "start_time": "2025-03-24T22:44:48.614Z"
   },
   {
    "duration": 418,
    "start_time": "2025-03-24T22:44:48.690Z"
   },
   {
    "duration": 31,
    "start_time": "2025-03-24T22:44:49.110Z"
   },
   {
    "duration": 130,
    "start_time": "2025-03-24T22:44:49.142Z"
   },
   {
    "duration": 5,
    "start_time": "2025-03-24T22:44:49.274Z"
   },
   {
    "duration": 462,
    "start_time": "2025-03-24T22:44:49.287Z"
   }
  ],
  "kernelspec": {
   "display_name": ".venv",
   "language": "python",
   "name": "python3"
  },
  "language_info": {
   "codemirror_mode": {
    "name": "ipython",
    "version": 3
   },
   "file_extension": ".py",
   "mimetype": "text/x-python",
   "name": "python",
   "nbconvert_exporter": "python",
   "pygments_lexer": "ipython3",
   "version": "3.13.5"
  },
  "toc": {
   "base_numbering": 1,
   "nav_menu": {},
   "number_sections": true,
   "sideBar": true,
   "skip_h1_title": true,
   "title_cell": "Table of Contents",
   "title_sidebar": "Contents",
   "toc_cell": false,
   "toc_position": {},
   "toc_section_display": true,
   "toc_window_display": false
  }
 },
 "nbformat": 4,
 "nbformat_minor": 2
}
